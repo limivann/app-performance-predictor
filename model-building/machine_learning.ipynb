{
 "cells": [
  {
   "cell_type": "code",
   "execution_count": 332,
   "metadata": {},
   "outputs": [],
   "source": [
    "import pandas as pd\n",
    "import numpy as np\n",
    "\n",
    "import warnings\n",
    "warnings.filterwarnings('ignore')"
   ]
  },
  {
   "cell_type": "code",
   "execution_count": 314,
   "metadata": {},
   "outputs": [
    {
     "data": {
      "text/html": [
       "<div>\n",
       "<style scoped>\n",
       "    .dataframe tbody tr th:only-of-type {\n",
       "        vertical-align: middle;\n",
       "    }\n",
       "\n",
       "    .dataframe tbody tr th {\n",
       "        vertical-align: top;\n",
       "    }\n",
       "\n",
       "    .dataframe thead th {\n",
       "        text-align: right;\n",
       "    }\n",
       "</style>\n",
       "<table border=\"1\" class=\"dataframe\">\n",
       "  <thead>\n",
       "    <tr style=\"text-align: right;\">\n",
       "      <th></th>\n",
       "      <th>APP_NAME</th>\n",
       "      <th>RATING</th>\n",
       "      <th>CATEGORY</th>\n",
       "      <th>RATING_COUNT</th>\n",
       "      <th>1_STAR_RATINGS</th>\n",
       "      <th>2_STAR_RATINGS</th>\n",
       "      <th>3_STAR_RATINGS</th>\n",
       "      <th>4_STAR_RATINGS</th>\n",
       "      <th>5_STAR_RATINGS</th>\n",
       "      <th>REVIEW_COUNT</th>\n",
       "      <th>...</th>\n",
       "      <th>DEVELOPER</th>\n",
       "      <th>DEVELOPER_ADDRESS</th>\n",
       "      <th>CONTENT_RATING</th>\n",
       "      <th>AD_SUPPORTED</th>\n",
       "      <th>COUNTRY</th>\n",
       "      <th>IN_APP_PURCHASES</th>\n",
       "      <th>EDITORS_CHOICE</th>\n",
       "      <th>DAYS_SINCE_UPDATE</th>\n",
       "      <th>DAYS_SINCE_RELEASED</th>\n",
       "      <th>SIZEBAND</th>\n",
       "    </tr>\n",
       "  </thead>\n",
       "  <tbody>\n",
       "    <tr>\n",
       "      <th>0</th>\n",
       "      <td>\"Ghost Voice Catcher\" AUTO EVP</td>\n",
       "      <td>3.933333</td>\n",
       "      <td>Lifestyle</td>\n",
       "      <td>68</td>\n",
       "      <td>12</td>\n",
       "      <td>1</td>\n",
       "      <td>6</td>\n",
       "      <td>7</td>\n",
       "      <td>42</td>\n",
       "      <td>24.0</td>\n",
       "      <td>...</td>\n",
       "      <td>BIG BEARD Studios</td>\n",
       "      <td>114 1/2 Ash st. Nashua NH 03060</td>\n",
       "      <td>Everyone</td>\n",
       "      <td>False</td>\n",
       "      <td>Usa</td>\n",
       "      <td>False</td>\n",
       "      <td>False</td>\n",
       "      <td>1820.0</td>\n",
       "      <td>3482.0</td>\n",
       "      <td>very small</td>\n",
       "    </tr>\n",
       "    <tr>\n",
       "      <th>1</th>\n",
       "      <td>\"OXXO\"</td>\n",
       "      <td>4.740000</td>\n",
       "      <td>Game</td>\n",
       "      <td>975</td>\n",
       "      <td>23</td>\n",
       "      <td>0</td>\n",
       "      <td>15</td>\n",
       "      <td>94</td>\n",
       "      <td>843</td>\n",
       "      <td>54.0</td>\n",
       "      <td>...</td>\n",
       "      <td>Hamster On Coke Games</td>\n",
       "      <td>ul Jugosłowiańska 37F/10\\n73-110 Stargard Szcz...</td>\n",
       "      <td>Everyone</td>\n",
       "      <td>False</td>\n",
       "      <td>NaN</td>\n",
       "      <td>False</td>\n",
       "      <td>False</td>\n",
       "      <td>0.0</td>\n",
       "      <td>945.0</td>\n",
       "      <td>medium</td>\n",
       "    </tr>\n",
       "    <tr>\n",
       "      <th>2</th>\n",
       "      <td>#DRIVE</td>\n",
       "      <td>4.434152</td>\n",
       "      <td>Game</td>\n",
       "      <td>229679</td>\n",
       "      <td>9352</td>\n",
       "      <td>4740</td>\n",
       "      <td>15249</td>\n",
       "      <td>47804</td>\n",
       "      <td>152534</td>\n",
       "      <td>6473.0</td>\n",
       "      <td>...</td>\n",
       "      <td>Pixel Perfect Dude S.A.</td>\n",
       "      <td>ul. Polna 28/6 lok. 4\\n62-800 Kalisz\\nPolska</td>\n",
       "      <td>Everyone</td>\n",
       "      <td>True</td>\n",
       "      <td>NaN</td>\n",
       "      <td>True</td>\n",
       "      <td>False</td>\n",
       "      <td>4.0</td>\n",
       "      <td>1084.0</td>\n",
       "      <td>large</td>\n",
       "    </tr>\n",
       "    <tr>\n",
       "      <th>3</th>\n",
       "      <td>#SelfCare</td>\n",
       "      <td>4.463476</td>\n",
       "      <td>Game</td>\n",
       "      <td>14932</td>\n",
       "      <td>865</td>\n",
       "      <td>336</td>\n",
       "      <td>1088</td>\n",
       "      <td>1353</td>\n",
       "      <td>11290</td>\n",
       "      <td>1501.0</td>\n",
       "      <td>...</td>\n",
       "      <td>TRU LUV Inc.</td>\n",
       "      <td>186-720 King Street West\\nToronto, Ontario, Ca...</td>\n",
       "      <td>Teen</td>\n",
       "      <td>False</td>\n",
       "      <td>NaN</td>\n",
       "      <td>True</td>\n",
       "      <td>False</td>\n",
       "      <td>952.0</td>\n",
       "      <td>1275.0</td>\n",
       "      <td>medium</td>\n",
       "    </tr>\n",
       "    <tr>\n",
       "      <th>4</th>\n",
       "      <td>#open Polyamorous + ENM Dating</td>\n",
       "      <td>2.550000</td>\n",
       "      <td>Dating</td>\n",
       "      <td>708</td>\n",
       "      <td>263</td>\n",
       "      <td>163</td>\n",
       "      <td>63</td>\n",
       "      <td>70</td>\n",
       "      <td>149</td>\n",
       "      <td>362.0</td>\n",
       "      <td>...</td>\n",
       "      <td>#open</td>\n",
       "      <td>NaN</td>\n",
       "      <td>Mature 17+</td>\n",
       "      <td>False</td>\n",
       "      <td>NaN</td>\n",
       "      <td>True</td>\n",
       "      <td>False</td>\n",
       "      <td>17.0</td>\n",
       "      <td>1026.0</td>\n",
       "      <td>small</td>\n",
       "    </tr>\n",
       "  </tbody>\n",
       "</table>\n",
       "<p>5 rows × 25 columns</p>\n",
       "</div>"
      ],
      "text/plain": [
       "                         APP_NAME    RATING   CATEGORY  RATING_COUNT  \\\n",
       "0  \"Ghost Voice Catcher\" AUTO EVP  3.933333  Lifestyle            68   \n",
       "1                          \"OXXO\"  4.740000       Game           975   \n",
       "2                          #DRIVE  4.434152       Game        229679   \n",
       "3                       #SelfCare  4.463476       Game         14932   \n",
       "4  #open Polyamorous + ENM Dating  2.550000     Dating           708   \n",
       "\n",
       "   1_STAR_RATINGS  2_STAR_RATINGS  3_STAR_RATINGS  4_STAR_RATINGS  \\\n",
       "0              12               1               6               7   \n",
       "1              23               0              15              94   \n",
       "2            9352            4740           15249           47804   \n",
       "3             865             336            1088            1353   \n",
       "4             263             163              63              70   \n",
       "\n",
       "   5_STAR_RATINGS  REVIEW_COUNT  ...                DEVELOPER  \\\n",
       "0              42          24.0  ...        BIG BEARD Studios   \n",
       "1             843          54.0  ...    Hamster On Coke Games   \n",
       "2          152534        6473.0  ...  Pixel Perfect Dude S.A.   \n",
       "3           11290        1501.0  ...             TRU LUV Inc.   \n",
       "4             149         362.0  ...                    #open   \n",
       "\n",
       "                                   DEVELOPER_ADDRESS  CONTENT_RATING  \\\n",
       "0                    114 1/2 Ash st. Nashua NH 03060        Everyone   \n",
       "1  ul Jugosłowiańska 37F/10\\n73-110 Stargard Szcz...        Everyone   \n",
       "2       ul. Polna 28/6 lok. 4\\n62-800 Kalisz\\nPolska        Everyone   \n",
       "3  186-720 King Street West\\nToronto, Ontario, Ca...            Teen   \n",
       "4                                                NaN      Mature 17+   \n",
       "\n",
       "   AD_SUPPORTED  COUNTRY IN_APP_PURCHASES EDITORS_CHOICE DAYS_SINCE_UPDATE  \\\n",
       "0         False      Usa            False          False            1820.0   \n",
       "1         False      NaN            False          False               0.0   \n",
       "2          True      NaN             True          False               4.0   \n",
       "3         False      NaN             True          False             952.0   \n",
       "4         False      NaN             True          False              17.0   \n",
       "\n",
       "   DAYS_SINCE_RELEASED    SIZEBAND  \n",
       "0               3482.0  very small  \n",
       "1                945.0      medium  \n",
       "2               1084.0       large  \n",
       "3               1275.0      medium  \n",
       "4               1026.0       small  \n",
       "\n",
       "[5 rows x 25 columns]"
      ]
     },
     "execution_count": 314,
     "metadata": {},
     "output_type": "execute_result"
    }
   ],
   "source": [
    "df = pd.read_csv(\"./input/temp.csv\")\n",
    "df.head()"
   ]
  },
  {
   "cell_type": "code",
   "execution_count": 301,
   "metadata": {},
   "outputs": [
    {
     "data": {
      "text/plain": [
       "medium        9613\n",
       "small         4313\n",
       "large         2473\n",
       "very small     917\n",
       "very large     153\n",
       "Name: SIZEBAND, dtype: int64"
      ]
     },
     "execution_count": 301,
     "metadata": {},
     "output_type": "execute_result"
    }
   ],
   "source": [
    "df[\"SIZEBAND\"].value_counts()"
   ]
  },
  {
   "cell_type": "code",
   "execution_count": 302,
   "metadata": {},
   "outputs": [
    {
     "data": {
      "text/plain": [
       "Free                 13912\n",
       "not cheap             1315\n",
       "normal                 913\n",
       "expensive              708\n",
       "cheap                  480\n",
       "too expensive          116\n",
       "FXXXing expensive       25\n",
       "Name: PRICEBAND, dtype: int64"
      ]
     },
     "execution_count": 302,
     "metadata": {},
     "output_type": "execute_result"
    }
   ],
   "source": [
    "df[\"PRICEBAND\"] = \"No Price Band\"\n",
    "df.loc[ df['PRICE'] == 0, 'PRICEBAND'] = 'Free'\n",
    "df.loc[(df['PRICE'] > 0) & (df['PRICE'] <= 0.99), 'PRICEBAND'] = 'cheap'\n",
    "df.loc[(df['PRICE'] > 0.99) & (df['PRICE'] <= 2.99), 'PRICEBAND']   = 'not cheap'\n",
    "df.loc[(df['PRICE'] > 2.99) & (df['PRICE'] <= 4.99), 'PRICEBAND']   = 'normal'\n",
    "df.loc[(df['PRICE'] > 4.99) & (df['PRICE'] <= 14.99), 'PRICEBAND']   = 'expensive'\n",
    "df.loc[(df['PRICE'] > 14.99) & (df['PRICE'] <= 29.99), 'PRICEBAND']   = 'too expensive'\n",
    "df.loc[(df['PRICE'] > 29.99), 'PRICEBAND']  = 'FXXXing expensive'\n",
    "df[\"PRICEBAND\"].value_counts()"
   ]
  },
  {
   "cell_type": "code",
   "execution_count": 303,
   "metadata": {},
   "outputs": [
    {
     "data": {
      "text/plain": [
       "Between 10K and 1M     8800\n",
       "Between 1M and 100M    4636\n",
       "Less than 10K          3930\n",
       "More than 100M          103\n",
       "Name: INSTALLS_GROUP, dtype: int64"
      ]
     },
     "execution_count": 303,
     "metadata": {},
     "output_type": "execute_result"
    }
   ],
   "source": [
    "df['INSTALLS_GROUP'] = 'More than 100M'\n",
    "df.loc[(df['INSTALLS'] == '1+') | (df['INSTALLS'] == '10+') | (df['INSTALLS'] == '50+') | \n",
    "       (df['INSTALLS'] == '100+') | (df['INSTALLS'] == '500+' ) | (df['INSTALLS'] == '1,000+' ) | \n",
    "       (df['INSTALLS'] == '5,000+' ) | (df['INSTALLS'] == '10,000+' ),'INSTALLS_GROUP'] = 'Less than 10K'\n",
    "df.loc[(df['INSTALLS'] == '50,000+') | (df['INSTALLS'] == '100,000+')  | (df['INSTALLS'] == '500,000+') \n",
    "       | (df['INSTALLS'] == '1,000,000+')  | (df['INSTALLS'] == '5,000,000+') ,'INSTALLS_GROUP'] = 'Between 10K and 1M'\n",
    "df.loc[(df['INSTALLS'] == '5,000,000+') | (df['INSTALLS'] == '10,000,000+') | (df['INSTALLS'] == '50,000,000+') \n",
    "       | (df['INSTALLS'] == '100,000,000+'),'INSTALLS_GROUP'] = 'Between 1M and 100M'\n",
    "df['INSTALLS_GROUP'] .value_counts()"
   ]
  },
  {
   "cell_type": "code",
   "execution_count": 304,
   "metadata": {},
   "outputs": [
    {
     "name": "stdout",
     "output_type": "stream",
     "text": [
      "<class 'pandas.core.frame.DataFrame'>\n",
      "RangeIndex: 17469 entries, 0 to 17468\n",
      "Data columns (total 27 columns):\n",
      " #   Column               Non-Null Count  Dtype  \n",
      "---  ------               --------------  -----  \n",
      " 0   APP_NAME             17469 non-null  object \n",
      " 1   RATING               17469 non-null  float64\n",
      " 2   CATEGORY             17469 non-null  object \n",
      " 3   RATING_COUNT         17469 non-null  int64  \n",
      " 4   1_STAR_RATINGS       17469 non-null  int64  \n",
      " 5   2_STAR_RATINGS       17469 non-null  int64  \n",
      " 6   3_STAR_RATINGS       17469 non-null  int64  \n",
      " 7   4_STAR_RATINGS       17469 non-null  int64  \n",
      " 8   5_STAR_RATINGS       17469 non-null  int64  \n",
      " 9   REVIEW_COUNT         17469 non-null  float64\n",
      " 10  INSTALLS             17469 non-null  object \n",
      " 11  MAX_INSTALLS         17469 non-null  int64  \n",
      " 12  FREE                 17469 non-null  bool   \n",
      " 13  PRICE                17469 non-null  float64\n",
      " 14  SIZE                 17469 non-null  float64\n",
      " 15  DEVELOPER            17469 non-null  object \n",
      " 16  DEVELOPER_ADDRESS    13816 non-null  object \n",
      " 17  CONTENT_RATING       17469 non-null  object \n",
      " 18  AD_SUPPORTED         17469 non-null  bool   \n",
      " 19  COUNTRY              4840 non-null   object \n",
      " 20  IN_APP_PURCHASES     17469 non-null  bool   \n",
      " 21  EDITORS_CHOICE       17469 non-null  bool   \n",
      " 22  DAYS_SINCE_UPDATE    17469 non-null  float64\n",
      " 23  DAYS_SINCE_RELEASED  17469 non-null  float64\n",
      " 24  SIZEBAND             17469 non-null  object \n",
      " 25  PRICEBAND            17469 non-null  object \n",
      " 26  INSTALLS_GROUP       17469 non-null  object \n",
      "dtypes: bool(4), float64(6), int64(7), object(10)\n",
      "memory usage: 3.1+ MB\n"
     ]
    }
   ],
   "source": [
    "df.info()"
   ]
  },
  {
   "cell_type": "markdown",
   "metadata": {},
   "source": [
    "---\n",
    "\n",
    "## Model Building\n",
    "\n",
    "First we identify the which features are usable in the dataset:\n",
    "1. RATING\n",
    "2. CATEGORY \n",
    "3. INSTALLS\n",
    "4. SIZEBAND\n",
    "5. FREE\n",
    "6. PRICEBAND\n",
    "7. AD_SUPPORTED\n",
    "8. CONTENT_RATING\n",
    "9. IN_APP_PURCHASES\n",
    "10. EDITORS_CHOICE\n",
    "\n",
    "Data preprocesssing (handle null values -> handle categorical data -"
   ]
  },
  {
   "cell_type": "code",
   "execution_count": 305,
   "metadata": {},
   "outputs": [
    {
     "data": {
      "text/plain": [
       "4.0    9858\n",
       "5.0    5520\n",
       "3.0    2091\n",
       "Name: RATING_GROUP, dtype: int64"
      ]
     },
     "execution_count": 305,
     "metadata": {},
     "output_type": "execute_result"
    }
   ],
   "source": [
    "df[\"RATING_GROUP\"] = round(df[\"RATING\"], 0) \n",
    "for i in range(df.shape[0]):\n",
    "    if (df.loc[i, \"RATING_GROUP\"] <= 3):\n",
    "        df.loc[i, \"RATING_GROUP\"]  = 3\n",
    "df[\"RATING_GROUP\"].value_counts()"
   ]
  },
  {
   "cell_type": "markdown",
   "metadata": {},
   "source": [
    "### Data preprocessing"
   ]
  },
  {
   "cell_type": "code",
   "execution_count": 307,
   "metadata": {},
   "outputs": [
    {
     "data": {
      "text/html": [
       "<div>\n",
       "<style scoped>\n",
       "    .dataframe tbody tr th:only-of-type {\n",
       "        vertical-align: middle;\n",
       "    }\n",
       "\n",
       "    .dataframe tbody tr th {\n",
       "        vertical-align: top;\n",
       "    }\n",
       "\n",
       "    .dataframe thead th {\n",
       "        text-align: right;\n",
       "    }\n",
       "</style>\n",
       "<table border=\"1\" class=\"dataframe\">\n",
       "  <thead>\n",
       "    <tr style=\"text-align: right;\">\n",
       "      <th></th>\n",
       "      <th>RATING_GROUP</th>\n",
       "      <th>CATEGORY</th>\n",
       "      <th>INSTALLS_GROUP</th>\n",
       "      <th>SIZEBAND</th>\n",
       "      <th>FREE</th>\n",
       "      <th>PRICEBAND</th>\n",
       "      <th>AD_SUPPORTED</th>\n",
       "      <th>CONTENT_RATING</th>\n",
       "      <th>IN_APP_PURCHASES</th>\n",
       "      <th>EDITORS_CHOICE</th>\n",
       "    </tr>\n",
       "  </thead>\n",
       "  <tbody>\n",
       "    <tr>\n",
       "      <th>0</th>\n",
       "      <td>4.0</td>\n",
       "      <td>Lifestyle</td>\n",
       "      <td>Less than 10K</td>\n",
       "      <td>very small</td>\n",
       "      <td>False</td>\n",
       "      <td>expensive</td>\n",
       "      <td>False</td>\n",
       "      <td>Everyone</td>\n",
       "      <td>False</td>\n",
       "      <td>False</td>\n",
       "    </tr>\n",
       "    <tr>\n",
       "      <th>1</th>\n",
       "      <td>5.0</td>\n",
       "      <td>Game</td>\n",
       "      <td>Less than 10K</td>\n",
       "      <td>medium</td>\n",
       "      <td>False</td>\n",
       "      <td>cheap</td>\n",
       "      <td>False</td>\n",
       "      <td>Everyone</td>\n",
       "      <td>False</td>\n",
       "      <td>False</td>\n",
       "    </tr>\n",
       "    <tr>\n",
       "      <th>2</th>\n",
       "      <td>4.0</td>\n",
       "      <td>Game</td>\n",
       "      <td>Between 1M and 100M</td>\n",
       "      <td>large</td>\n",
       "      <td>True</td>\n",
       "      <td>Free</td>\n",
       "      <td>True</td>\n",
       "      <td>Everyone</td>\n",
       "      <td>True</td>\n",
       "      <td>False</td>\n",
       "    </tr>\n",
       "    <tr>\n",
       "      <th>3</th>\n",
       "      <td>4.0</td>\n",
       "      <td>Game</td>\n",
       "      <td>Between 10K and 1M</td>\n",
       "      <td>medium</td>\n",
       "      <td>True</td>\n",
       "      <td>Free</td>\n",
       "      <td>False</td>\n",
       "      <td>Teen</td>\n",
       "      <td>True</td>\n",
       "      <td>False</td>\n",
       "    </tr>\n",
       "    <tr>\n",
       "      <th>4</th>\n",
       "      <td>3.0</td>\n",
       "      <td>Dating</td>\n",
       "      <td>Between 10K and 1M</td>\n",
       "      <td>small</td>\n",
       "      <td>True</td>\n",
       "      <td>Free</td>\n",
       "      <td>False</td>\n",
       "      <td>Mature 17+</td>\n",
       "      <td>True</td>\n",
       "      <td>False</td>\n",
       "    </tr>\n",
       "  </tbody>\n",
       "</table>\n",
       "</div>"
      ],
      "text/plain": [
       "   RATING_GROUP   CATEGORY       INSTALLS_GROUP    SIZEBAND   FREE  PRICEBAND  \\\n",
       "0           4.0  Lifestyle        Less than 10K  very small  False  expensive   \n",
       "1           5.0       Game        Less than 10K      medium  False      cheap   \n",
       "2           4.0       Game  Between 1M and 100M       large   True       Free   \n",
       "3           4.0       Game   Between 10K and 1M      medium   True       Free   \n",
       "4           3.0     Dating   Between 10K and 1M       small   True       Free   \n",
       "\n",
       "   AD_SUPPORTED CONTENT_RATING  IN_APP_PURCHASES  EDITORS_CHOICE  \n",
       "0         False       Everyone             False           False  \n",
       "1         False       Everyone             False           False  \n",
       "2          True       Everyone              True           False  \n",
       "3         False           Teen              True           False  \n",
       "4         False     Mature 17+              True           False  "
      ]
     },
     "execution_count": 307,
     "metadata": {},
     "output_type": "execute_result"
    }
   ],
   "source": [
    "feature_list = [\"RATING_GROUP\", \"CATEGORY\", \"INSTALLS_GROUP\", \"SIZEBAND\", \"FREE\", \"PRICEBAND\", \"AD_SUPPORTED\", \"CONTENT_RATING\", \"IN_APP_PURCHASES\", \"EDITORS_CHOICE\"]\n",
    "model_df = df[feature_list].copy()\n",
    "model_df.head()"
   ]
  },
  {
   "cell_type": "markdown",
   "metadata": {},
   "source": [
    "#### Handling null values"
   ]
  },
  {
   "cell_type": "code",
   "execution_count": 308,
   "metadata": {},
   "outputs": [
    {
     "data": {
      "text/plain": [
       "RATING_GROUP        0\n",
       "CATEGORY            0\n",
       "INSTALLS_GROUP      0\n",
       "SIZEBAND            0\n",
       "FREE                0\n",
       "PRICEBAND           0\n",
       "AD_SUPPORTED        0\n",
       "CONTENT_RATING      0\n",
       "IN_APP_PURCHASES    0\n",
       "EDITORS_CHOICE      0\n",
       "dtype: int64"
      ]
     },
     "execution_count": 308,
     "metadata": {},
     "output_type": "execute_result"
    }
   ],
   "source": [
    "model_df.isna().sum()"
   ]
  },
  {
   "cell_type": "markdown",
   "metadata": {},
   "source": [
    "Seems like there are no null values in our dataset :)"
   ]
  },
  {
   "cell_type": "markdown",
   "metadata": {},
   "source": [
    "#### Handling categorical values\n",
    "\n",
    "Before we continue, our categorical variables are further divided into 2 types —\n",
    "- Ordinal categorical variables - `INSTALLS_GROUP`, `SIZEBAND`, `PRICEBAND`\n",
    "- Nominal categorical variable - `CATEGORY`, `FREE`, `AD_SUPPORTED`, `CONTENT_RATING`, `IN_APP_PURCHASES`, `EDITORS_CHOICE`"
   ]
  },
  {
   "cell_type": "code",
   "execution_count": 309,
   "metadata": {},
   "outputs": [],
   "source": [
    "# numerical_features = [\"DAYS_SINCE_RELEASED\"]\n",
    "nominal_cat = [\"CATEGORY\",\"FREE\",\"AD_SUPPORTED\", \"IN_APP_PURCHASES\", \"CONTENT_RATING\", \"EDITORS_CHOICE\"]\n",
    "ordinal_cat = [\"INSTALLS_GROUP\", \"SIZEBAND\", \"PRICEBAND\"]"
   ]
  },
  {
   "cell_type": "markdown",
   "metadata": {},
   "source": [
    "**Handling Ordinal Categorical Variables**"
   ]
  },
  {
   "cell_type": "code",
   "execution_count": 310,
   "metadata": {},
   "outputs": [
    {
     "data": {
      "text/html": [
       "<div>\n",
       "<style scoped>\n",
       "    .dataframe tbody tr th:only-of-type {\n",
       "        vertical-align: middle;\n",
       "    }\n",
       "\n",
       "    .dataframe tbody tr th {\n",
       "        vertical-align: top;\n",
       "    }\n",
       "\n",
       "    .dataframe thead th {\n",
       "        text-align: right;\n",
       "    }\n",
       "</style>\n",
       "<table border=\"1\" class=\"dataframe\">\n",
       "  <thead>\n",
       "    <tr style=\"text-align: right;\">\n",
       "      <th></th>\n",
       "      <th>INSTALLS_GROUP</th>\n",
       "      <th>PRICEBAND</th>\n",
       "      <th>SIZEBAND</th>\n",
       "    </tr>\n",
       "  </thead>\n",
       "  <tbody>\n",
       "    <tr>\n",
       "      <th>0</th>\n",
       "      <td>0</td>\n",
       "      <td>4</td>\n",
       "      <td>0</td>\n",
       "    </tr>\n",
       "    <tr>\n",
       "      <th>1</th>\n",
       "      <td>0</td>\n",
       "      <td>1</td>\n",
       "      <td>2</td>\n",
       "    </tr>\n",
       "    <tr>\n",
       "      <th>2</th>\n",
       "      <td>2</td>\n",
       "      <td>0</td>\n",
       "      <td>3</td>\n",
       "    </tr>\n",
       "    <tr>\n",
       "      <th>3</th>\n",
       "      <td>1</td>\n",
       "      <td>0</td>\n",
       "      <td>2</td>\n",
       "    </tr>\n",
       "    <tr>\n",
       "      <th>4</th>\n",
       "      <td>1</td>\n",
       "      <td>0</td>\n",
       "      <td>1</td>\n",
       "    </tr>\n",
       "  </tbody>\n",
       "</table>\n",
       "</div>"
      ],
      "text/plain": [
       "   INSTALLS_GROUP  PRICEBAND  SIZEBAND\n",
       "0               0          4         0\n",
       "1               0          1         2\n",
       "2               2          0         3\n",
       "3               1          0         2\n",
       "4               1          0         1"
      ]
     },
     "execution_count": 310,
     "metadata": {},
     "output_type": "execute_result"
    }
   ],
   "source": [
    "ig_mapping = {\"Less than 10K\": 0, \"Between 10K and 1M\": 1, \"Between 1M and 100M\": 2, \"More than 100M\": 3}\n",
    "pb_mapping = {\"Free\": 0, \"cheap\": 1, \"not cheap\": 2,\"normal\": 3,\"expensive\": 4,\"too expensive\": 5, \"FXXXing expensive\": 6 } \n",
    "sb_mapping = {\"very small\": 0, \"small\": 1, \"medium\": 2, \"large\": 3, \"very large\": 4}\n",
    "\n",
    "model_df[\"INSTALLS_GROUP\"] = model_df[\"INSTALLS_GROUP\"].map(ig_mapping)\n",
    "model_df[\"PRICEBAND\"] = model_df[\"PRICEBAND\"].map(pb_mapping)\n",
    "model_df[\"SIZEBAND\"] = model_df[\"SIZEBAND\"].map(sb_mapping)\n",
    "\n",
    "model_df[[\"INSTALLS_GROUP\", \"PRICEBAND\", \"SIZEBAND\"]].head()"
   ]
  },
  {
   "cell_type": "markdown",
   "metadata": {},
   "source": [
    "**Handling Nominal Categorical Variables**"
   ]
  },
  {
   "cell_type": "code",
   "execution_count": 311,
   "metadata": {},
   "outputs": [
    {
     "name": "stdout",
     "output_type": "stream",
     "text": [
      "<class 'pandas.core.frame.DataFrame'>\n",
      "RangeIndex: 17469 entries, 0 to 17468\n",
      "Data columns (total 45 columns):\n",
      " #   Column                            Non-Null Count  Dtype  \n",
      "---  ------                            --------------  -----  \n",
      " 0   CATEGORY_Art & Design             17469 non-null  float64\n",
      " 1   CATEGORY_Auto & Vehicles          17469 non-null  float64\n",
      " 2   CATEGORY_Beauty                   17469 non-null  float64\n",
      " 3   CATEGORY_Books & Reference        17469 non-null  float64\n",
      " 4   CATEGORY_Business                 17469 non-null  float64\n",
      " 5   CATEGORY_Comics                   17469 non-null  float64\n",
      " 6   CATEGORY_Communication            17469 non-null  float64\n",
      " 7   CATEGORY_Dating                   17469 non-null  float64\n",
      " 8   CATEGORY_Education                17469 non-null  float64\n",
      " 9   CATEGORY_Entertainment            17469 non-null  float64\n",
      " 10  CATEGORY_Events                   17469 non-null  float64\n",
      " 11  CATEGORY_Finance                  17469 non-null  float64\n",
      " 12  CATEGORY_Food & Drink             17469 non-null  float64\n",
      " 13  CATEGORY_Game                     17469 non-null  float64\n",
      " 14  CATEGORY_Health & Fitness         17469 non-null  float64\n",
      " 15  CATEGORY_House & Home             17469 non-null  float64\n",
      " 16  CATEGORY_Libraries & Demo         17469 non-null  float64\n",
      " 17  CATEGORY_Lifestyle                17469 non-null  float64\n",
      " 18  CATEGORY_Maps & Navigation        17469 non-null  float64\n",
      " 19  CATEGORY_Medical                  17469 non-null  float64\n",
      " 20  CATEGORY_Music & Audio            17469 non-null  float64\n",
      " 21  CATEGORY_News & Magazines         17469 non-null  float64\n",
      " 22  CATEGORY_Parenting                17469 non-null  float64\n",
      " 23  CATEGORY_Personalization          17469 non-null  float64\n",
      " 24  CATEGORY_Photography              17469 non-null  float64\n",
      " 25  CATEGORY_Productivity             17469 non-null  float64\n",
      " 26  CATEGORY_Shopping                 17469 non-null  float64\n",
      " 27  CATEGORY_Social                   17469 non-null  float64\n",
      " 28  CATEGORY_Tools                    17469 non-null  float64\n",
      " 29  CATEGORY_Travel & Local           17469 non-null  float64\n",
      " 30  CATEGORY_Video Players & Editors  17469 non-null  float64\n",
      " 31  CATEGORY_Weather                  17469 non-null  float64\n",
      " 32  FREE_False                        17469 non-null  float64\n",
      " 33  FREE_True                         17469 non-null  float64\n",
      " 34  AD_SUPPORTED_False                17469 non-null  float64\n",
      " 35  AD_SUPPORTED_True                 17469 non-null  float64\n",
      " 36  IN_APP_PURCHASES_False            17469 non-null  float64\n",
      " 37  IN_APP_PURCHASES_True             17469 non-null  float64\n",
      " 38  CONTENT_RATING_Adults only 18+    17469 non-null  float64\n",
      " 39  CONTENT_RATING_Everyone           17469 non-null  float64\n",
      " 40  CONTENT_RATING_Everyone 10+       17469 non-null  float64\n",
      " 41  CONTENT_RATING_Mature 17+         17469 non-null  float64\n",
      " 42  CONTENT_RATING_Teen               17469 non-null  float64\n",
      " 43  EDITORS_CHOICE_False              17469 non-null  float64\n",
      " 44  EDITORS_CHOICE_True               17469 non-null  float64\n",
      "dtypes: float64(45)\n",
      "memory usage: 6.0 MB\n"
     ]
    }
   ],
   "source": [
    "# Import the encoder from sklearn\n",
    "from sklearn.preprocessing import OneHotEncoder\n",
    "ohe = OneHotEncoder()\n",
    "\n",
    "# OneHotEncoding of categorical predictors \n",
    "model_df_cat = model_df[nominal_cat]\n",
    "ohe.fit(model_df_cat)\n",
    "model_df_cat_ohe = pd.DataFrame(ohe.transform(model_df_cat).toarray(), \n",
    "                                  columns=ohe.get_feature_names_out(model_df_cat.columns))\n",
    "\n",
    "# Check the encoded variables\n",
    "model_df_cat_ohe.info()"
   ]
  },
  {
   "cell_type": "code",
   "execution_count": 312,
   "metadata": {},
   "outputs": [
    {
     "data": {
      "text/plain": [
       "INSTALLS_GROUP    1\n",
       "SIZEBAND          4\n",
       "PRICEBAND         2\n",
       "Name: 200, dtype: int64"
      ]
     },
     "execution_count": 312,
     "metadata": {},
     "output_type": "execute_result"
    }
   ],
   "source": [
    "model_df_ord = model_df[ordinal_cat]\n",
    "model_df_ord.loc[200]"
   ]
  },
  {
   "cell_type": "code",
   "execution_count": 315,
   "metadata": {},
   "outputs": [
    {
     "name": "stdout",
     "output_type": "stream",
     "text": [
      "<class 'pandas.core.frame.DataFrame'>\n",
      "RangeIndex: 17469 entries, 0 to 17468\n",
      "Data columns (total 49 columns):\n",
      " #   Column                            Non-Null Count  Dtype  \n",
      "---  ------                            --------------  -----  \n",
      " 0   CATEGORY_Art & Design             17469 non-null  float64\n",
      " 1   CATEGORY_Auto & Vehicles          17469 non-null  float64\n",
      " 2   CATEGORY_Beauty                   17469 non-null  float64\n",
      " 3   CATEGORY_Books & Reference        17469 non-null  float64\n",
      " 4   CATEGORY_Business                 17469 non-null  float64\n",
      " 5   CATEGORY_Comics                   17469 non-null  float64\n",
      " 6   CATEGORY_Communication            17469 non-null  float64\n",
      " 7   CATEGORY_Dating                   17469 non-null  float64\n",
      " 8   CATEGORY_Education                17469 non-null  float64\n",
      " 9   CATEGORY_Entertainment            17469 non-null  float64\n",
      " 10  CATEGORY_Events                   17469 non-null  float64\n",
      " 11  CATEGORY_Finance                  17469 non-null  float64\n",
      " 12  CATEGORY_Food & Drink             17469 non-null  float64\n",
      " 13  CATEGORY_Game                     17469 non-null  float64\n",
      " 14  CATEGORY_Health & Fitness         17469 non-null  float64\n",
      " 15  CATEGORY_House & Home             17469 non-null  float64\n",
      " 16  CATEGORY_Libraries & Demo         17469 non-null  float64\n",
      " 17  CATEGORY_Lifestyle                17469 non-null  float64\n",
      " 18  CATEGORY_Maps & Navigation        17469 non-null  float64\n",
      " 19  CATEGORY_Medical                  17469 non-null  float64\n",
      " 20  CATEGORY_Music & Audio            17469 non-null  float64\n",
      " 21  CATEGORY_News & Magazines         17469 non-null  float64\n",
      " 22  CATEGORY_Parenting                17469 non-null  float64\n",
      " 23  CATEGORY_Personalization          17469 non-null  float64\n",
      " 24  CATEGORY_Photography              17469 non-null  float64\n",
      " 25  CATEGORY_Productivity             17469 non-null  float64\n",
      " 26  CATEGORY_Shopping                 17469 non-null  float64\n",
      " 27  CATEGORY_Social                   17469 non-null  float64\n",
      " 28  CATEGORY_Tools                    17469 non-null  float64\n",
      " 29  CATEGORY_Travel & Local           17469 non-null  float64\n",
      " 30  CATEGORY_Video Players & Editors  17469 non-null  float64\n",
      " 31  CATEGORY_Weather                  17469 non-null  float64\n",
      " 32  FREE_False                        17469 non-null  float64\n",
      " 33  FREE_True                         17469 non-null  float64\n",
      " 34  AD_SUPPORTED_False                17469 non-null  float64\n",
      " 35  AD_SUPPORTED_True                 17469 non-null  float64\n",
      " 36  IN_APP_PURCHASES_False            17469 non-null  float64\n",
      " 37  IN_APP_PURCHASES_True             17469 non-null  float64\n",
      " 38  CONTENT_RATING_Adults only 18+    17469 non-null  float64\n",
      " 39  CONTENT_RATING_Everyone           17469 non-null  float64\n",
      " 40  CONTENT_RATING_Everyone 10+       17469 non-null  float64\n",
      " 41  CONTENT_RATING_Mature 17+         17469 non-null  float64\n",
      " 42  CONTENT_RATING_Teen               17469 non-null  float64\n",
      " 43  EDITORS_CHOICE_False              17469 non-null  float64\n",
      " 44  EDITORS_CHOICE_True               17469 non-null  float64\n",
      " 45  INSTALLS_GROUP                    17469 non-null  int64  \n",
      " 46  SIZEBAND                          17469 non-null  int64  \n",
      " 47  PRICEBAND                         17469 non-null  int64  \n",
      " 48  RATING_GROUP                      17469 non-null  float64\n",
      "dtypes: float64(46), int64(3)\n",
      "memory usage: 6.5 MB\n"
     ]
    }
   ],
   "source": [
    "# Combining Numeric features with the categorical features\n",
    "# model_df_num = model_df[numerical_features]\n",
    "model_df_res = model_df[\"RATING_GROUP\"]\n",
    "model_df_ord = model_df[ordinal_cat]\n",
    "model_df_encoded = pd.concat([ model_df_cat_ohe, model_df_ord, model_df_res], \n",
    "                           sort = False, axis = 1).reindex(index=model_df_res.index)\n",
    "\n",
    "# Check the final dataframe\n",
    "model_df_encoded.info()"
   ]
  },
  {
   "cell_type": "markdown",
   "metadata": {},
   "source": [
    "### Machine learning"
   ]
  },
  {
   "cell_type": "code",
   "execution_count": 325,
   "metadata": {},
   "outputs": [],
   "source": [
    "from sklearn.model_selection import train_test_split, cross_val_score\n",
    "from sklearn.preprocessing import StandardScaler\n",
    "from sklearn.metrics import r2_score, mean_absolute_error, mean_squared_error\n",
    "\n",
    "# machine learning\n",
    "from sklearn.linear_model import LogisticRegression\n",
    "from sklearn.svm import SVC, LinearSVC\n",
    "from sklearn.ensemble import RandomForestClassifier\n",
    "from sklearn.neighbors import KNeighborsClassifier\n",
    "from sklearn.naive_bayes import GaussianNB\n",
    "from sklearn.linear_model import Perceptron\n",
    "from sklearn.linear_model import SGDClassifier\n",
    "from sklearn.tree import DecisionTreeClassifier\n",
    "\n",
    "from sklearn.model_selection import train_test_split\n",
    "from sklearn.ensemble import RandomForestClassifier,GradientBoostingClassifier\n",
    "from sklearn.linear_model import LogisticRegression\n",
    "from sklearn.metrics import accuracy_score,confusion_matrix,ConfusionMatrixDisplay,classification_report\n",
    "from sklearn.model_selection import GridSearchCV"
   ]
  },
  {
   "cell_type": "code",
   "execution_count": 317,
   "metadata": {},
   "outputs": [],
   "source": [
    "def rmse_cv(model):\n",
    "    rmse = np.sqrt(-cross_val_score(model, X, y, scoring=\"neg_mean_squared_error\", cv=5)).mean()\n",
    "    return rmse\n",
    "    \n",
    "\n",
    "def evaluation(y, predictions):\n",
    "    mae = mean_absolute_error(y, predictions)\n",
    "    mse = mean_squared_error(y, predictions)\n",
    "    rmse = np.sqrt(mean_squared_error(y, predictions))\n",
    "    r_squared = r2_score(y, predictions)\n",
    "    return mae, mse, rmse, r_squared\n",
    "\n",
    "models = pd.DataFrame(columns=[\"Model\",\"MAE\",\"MSE\",\"RMSE\",\"R2 Score\",\"RMSE (Cross-Validation)\"])"
   ]
  },
  {
   "cell_type": "code",
   "execution_count": 318,
   "metadata": {},
   "outputs": [
    {
     "data": {
      "text/plain": [
       "CATEGORY_Art & Design               0\n",
       "CATEGORY_Auto & Vehicles            0\n",
       "CATEGORY_Beauty                     0\n",
       "CATEGORY_Books & Reference          0\n",
       "CATEGORY_Business                   0\n",
       "CATEGORY_Comics                     0\n",
       "CATEGORY_Communication              0\n",
       "CATEGORY_Dating                     0\n",
       "CATEGORY_Education                  0\n",
       "CATEGORY_Entertainment              0\n",
       "CATEGORY_Events                     0\n",
       "CATEGORY_Finance                    0\n",
       "CATEGORY_Food & Drink               0\n",
       "CATEGORY_Game                       0\n",
       "CATEGORY_Health & Fitness           0\n",
       "CATEGORY_House & Home               0\n",
       "CATEGORY_Libraries & Demo           0\n",
       "CATEGORY_Lifestyle                  0\n",
       "CATEGORY_Maps & Navigation          0\n",
       "CATEGORY_Medical                    0\n",
       "CATEGORY_Music & Audio              0\n",
       "CATEGORY_News & Magazines           0\n",
       "CATEGORY_Parenting                  0\n",
       "CATEGORY_Personalization            0\n",
       "CATEGORY_Photography                0\n",
       "CATEGORY_Productivity               0\n",
       "CATEGORY_Shopping                   0\n",
       "CATEGORY_Social                     0\n",
       "CATEGORY_Tools                      0\n",
       "CATEGORY_Travel & Local             0\n",
       "CATEGORY_Video Players & Editors    0\n",
       "CATEGORY_Weather                    0\n",
       "FREE_False                          0\n",
       "FREE_True                           0\n",
       "AD_SUPPORTED_False                  0\n",
       "AD_SUPPORTED_True                   0\n",
       "IN_APP_PURCHASES_False              0\n",
       "IN_APP_PURCHASES_True               0\n",
       "CONTENT_RATING_Adults only 18+      0\n",
       "CONTENT_RATING_Everyone             0\n",
       "CONTENT_RATING_Everyone 10+         0\n",
       "CONTENT_RATING_Mature 17+           0\n",
       "CONTENT_RATING_Teen                 0\n",
       "EDITORS_CHOICE_False                0\n",
       "EDITORS_CHOICE_True                 0\n",
       "INSTALLS_GROUP                      0\n",
       "SIZEBAND                            0\n",
       "PRICEBAND                           0\n",
       "dtype: int64"
      ]
     },
     "execution_count": 318,
     "metadata": {},
     "output_type": "execute_result"
    }
   ],
   "source": [
    "# Extract Response and Predictors\n",
    "y = pd.DataFrame(model_df_encoded[\"RATING_GROUP\"])\n",
    "X = pd.DataFrame(model_df_encoded.drop([\"RATING_GROUP\"], axis = 1))\n",
    "\n",
    "# Split the Dataset into Train and Test\n",
    "X_train, X_test, y_train, y_test = train_test_split(X, y, test_size = 0.2, random_state=20)\n",
    "\n",
    "X_train.isna().sum()"
   ]
  },
  {
   "cell_type": "code",
   "execution_count": 319,
   "metadata": {},
   "outputs": [
    {
     "name": "stderr",
     "output_type": "stream",
     "text": [
      "C:\\Users\\Lenovo\\AppData\\Local\\Programs\\Python\\Python39\\lib\\site-packages\\sklearn\\utils\\validation.py:993: DataConversionWarning: A column-vector y was passed when a 1d array was expected. Please change the shape of y to (n_samples, ), for example using ravel().\n",
      "  y = column_or_1d(y, warn=True)\n",
      "C:\\Users\\Lenovo\\AppData\\Local\\Programs\\Python\\Python39\\lib\\site-packages\\sklearn\\linear_model\\_logistic.py:814: ConvergenceWarning: lbfgs failed to converge (status=1):\n",
      "STOP: TOTAL NO. of ITERATIONS REACHED LIMIT.\n",
      "\n",
      "Increase the number of iterations (max_iter) or scale the data as shown in:\n",
      "    https://scikit-learn.org/stable/modules/preprocessing.html\n",
      "Please also refer to the documentation for alternative solver options:\n",
      "    https://scikit-learn.org/stable/modules/linear_model.html#logistic-regression\n",
      "  n_iter_i = _check_optimize_result(\n"
     ]
    },
    {
     "data": {
      "text/plain": [
       "56.15"
      ]
     },
     "execution_count": 319,
     "metadata": {},
     "output_type": "execute_result"
    }
   ],
   "source": [
    "# Logistic Regression\n",
    "\n",
    "logreg = LogisticRegression()\n",
    "logreg.fit(X_train, y_train)\n",
    "Y_pred = logreg.predict(X_test)\n",
    "acc_log = round(logreg.score(X_train, y_train) * 100, 2)\n",
    "acc_log"
   ]
  },
  {
   "cell_type": "code",
   "execution_count": 320,
   "metadata": {},
   "outputs": [
    {
     "name": "stderr",
     "output_type": "stream",
     "text": [
      "C:\\Users\\Lenovo\\AppData\\Local\\Programs\\Python\\Python39\\lib\\site-packages\\sklearn\\utils\\validation.py:993: DataConversionWarning: A column-vector y was passed when a 1d array was expected. Please change the shape of y to (n_samples, ), for example using ravel().\n",
      "  y = column_or_1d(y, warn=True)\n"
     ]
    },
    {
     "data": {
      "text/plain": [
       "57.03"
      ]
     },
     "execution_count": 320,
     "metadata": {},
     "output_type": "execute_result"
    }
   ],
   "source": [
    "# Support Vector Machines\n",
    "\n",
    "svc = SVC()\n",
    "svc.fit(X_train, y_train)\n",
    "y_pred = svc.predict(X_test)\n",
    "acc_svc = round(svc.score(X_train, y_train) * 100, 2)\n",
    "acc_svc"
   ]
  },
  {
   "cell_type": "code",
   "execution_count": 322,
   "metadata": {},
   "outputs": [
    {
     "name": "stdout",
     "output_type": "stream",
     "text": [
      "              precision    recall  f1-score   support\n",
      "\n",
      "         3.0       0.00      0.00      0.00       418\n",
      "         4.0       0.58      0.97      0.72      2005\n",
      "         5.0       0.45      0.05      0.09      1071\n",
      "\n",
      "    accuracy                           0.57      3494\n",
      "   macro avg       0.34      0.34      0.27      3494\n",
      "weighted avg       0.47      0.57      0.44      3494\n",
      "\n",
      "[[   0  412    6]\n",
      " [   0 1942   63]\n",
      " [   0 1015   56]]\n"
     ]
    },
    {
     "name": "stderr",
     "output_type": "stream",
     "text": [
      "C:\\Users\\Lenovo\\AppData\\Local\\Programs\\Python\\Python39\\lib\\site-packages\\sklearn\\metrics\\_classification.py:1318: UndefinedMetricWarning: Precision and F-score are ill-defined and being set to 0.0 in labels with no predicted samples. Use `zero_division` parameter to control this behavior.\n",
      "  _warn_prf(average, modifier, msg_start, len(result))\n",
      "C:\\Users\\Lenovo\\AppData\\Local\\Programs\\Python\\Python39\\lib\\site-packages\\sklearn\\metrics\\_classification.py:1318: UndefinedMetricWarning: Precision and F-score are ill-defined and being set to 0.0 in labels with no predicted samples. Use `zero_division` parameter to control this behavior.\n",
      "  _warn_prf(average, modifier, msg_start, len(result))\n",
      "C:\\Users\\Lenovo\\AppData\\Local\\Programs\\Python\\Python39\\lib\\site-packages\\sklearn\\metrics\\_classification.py:1318: UndefinedMetricWarning: Precision and F-score are ill-defined and being set to 0.0 in labels with no predicted samples. Use `zero_division` parameter to control this behavior.\n",
      "  _warn_prf(average, modifier, msg_start, len(result))\n"
     ]
    }
   ],
   "source": [
    "print(classification_report(y_test,y_pred))\n",
    "print(confusion_matrix(y_test, y_pred))"
   ]
  },
  {
   "cell_type": "code",
   "execution_count": 327,
   "metadata": {},
   "outputs": [],
   "source": [
    "param_grid = {'C':[1,10,100,1000],'gamma':[1,0.1,0.001,0.0001], 'kernel':['linear','rbf']}"
   ]
  },
  {
   "cell_type": "code",
   "execution_count": 331,
   "metadata": {},
   "outputs": [],
   "source": [
    "grid = GridSearchCV(SVC(),param_grid,refit = True, verbose=2)"
   ]
  },
  {
   "cell_type": "code",
   "execution_count": 333,
   "metadata": {},
   "outputs": [
    {
     "name": "stdout",
     "output_type": "stream",
     "text": [
      "Fitting 5 folds for each of 32 candidates, totalling 160 fits\n",
      "[CV] END ........................C=1, gamma=1, kernel=linear; total time=   8.5s\n",
      "[CV] END ........................C=1, gamma=1, kernel=linear; total time=   8.5s\n",
      "[CV] END ........................C=1, gamma=1, kernel=linear; total time=   8.4s\n",
      "[CV] END ........................C=1, gamma=1, kernel=linear; total time=   8.2s\n",
      "[CV] END ........................C=1, gamma=1, kernel=linear; total time=   8.2s\n",
      "[CV] END ...........................C=1, gamma=1, kernel=rbf; total time=  13.3s\n",
      "[CV] END ...........................C=1, gamma=1, kernel=rbf; total time=  13.8s\n",
      "[CV] END ...........................C=1, gamma=1, kernel=rbf; total time=  14.7s\n",
      "[CV] END ...........................C=1, gamma=1, kernel=rbf; total time=  13.8s\n",
      "[CV] END ...........................C=1, gamma=1, kernel=rbf; total time=  13.3s\n",
      "[CV] END ......................C=1, gamma=0.1, kernel=linear; total time=   8.8s\n",
      "[CV] END ......................C=1, gamma=0.1, kernel=linear; total time=  10.5s\n",
      "[CV] END ......................C=1, gamma=0.1, kernel=linear; total time=   8.6s\n",
      "[CV] END ......................C=1, gamma=0.1, kernel=linear; total time=  10.1s\n",
      "[CV] END ......................C=1, gamma=0.1, kernel=linear; total time=  10.0s\n",
      "[CV] END .........................C=1, gamma=0.1, kernel=rbf; total time=  15.9s\n",
      "[CV] END .........................C=1, gamma=0.1, kernel=rbf; total time=  14.9s\n",
      "[CV] END .........................C=1, gamma=0.1, kernel=rbf; total time=  13.9s\n",
      "[CV] END .........................C=1, gamma=0.1, kernel=rbf; total time=  16.7s\n",
      "[CV] END .........................C=1, gamma=0.1, kernel=rbf; total time=  14.8s\n",
      "[CV] END ....................C=1, gamma=0.001, kernel=linear; total time=   6.8s\n",
      "[CV] END ....................C=1, gamma=0.001, kernel=linear; total time=   7.2s\n",
      "[CV] END ....................C=1, gamma=0.001, kernel=linear; total time=   7.4s\n",
      "[CV] END ....................C=1, gamma=0.001, kernel=linear; total time=   7.6s\n",
      "[CV] END ....................C=1, gamma=0.001, kernel=linear; total time=  10.1s\n",
      "[CV] END .......................C=1, gamma=0.001, kernel=rbf; total time=  16.4s\n",
      "[CV] END .......................C=1, gamma=0.001, kernel=rbf; total time=  14.4s\n",
      "[CV] END .......................C=1, gamma=0.001, kernel=rbf; total time=  14.4s\n",
      "[CV] END .......................C=1, gamma=0.001, kernel=rbf; total time=  14.9s\n",
      "[CV] END .......................C=1, gamma=0.001, kernel=rbf; total time=  15.1s\n",
      "[CV] END ...................C=1, gamma=0.0001, kernel=linear; total time=  11.3s\n",
      "[CV] END ...................C=1, gamma=0.0001, kernel=linear; total time=  12.3s\n",
      "[CV] END ...................C=1, gamma=0.0001, kernel=linear; total time=  11.2s\n",
      "[CV] END ...................C=1, gamma=0.0001, kernel=linear; total time=  10.5s\n",
      "[CV] END ...................C=1, gamma=0.0001, kernel=linear; total time=   9.7s\n",
      "[CV] END ......................C=1, gamma=0.0001, kernel=rbf; total time=  14.1s\n",
      "[CV] END ......................C=1, gamma=0.0001, kernel=rbf; total time=  13.5s\n",
      "[CV] END ......................C=1, gamma=0.0001, kernel=rbf; total time=  14.1s\n",
      "[CV] END ......................C=1, gamma=0.0001, kernel=rbf; total time=  14.1s\n",
      "[CV] END ......................C=1, gamma=0.0001, kernel=rbf; total time=  13.5s\n",
      "[CV] END .......................C=10, gamma=1, kernel=linear; total time=  12.3s\n",
      "[CV] END .......................C=10, gamma=1, kernel=linear; total time=  12.7s\n",
      "[CV] END .......................C=10, gamma=1, kernel=linear; total time=  11.3s\n",
      "[CV] END .......................C=10, gamma=1, kernel=linear; total time=  11.3s\n",
      "[CV] END .......................C=10, gamma=1, kernel=linear; total time=  10.9s\n",
      "[CV] END ..........................C=10, gamma=1, kernel=rbf; total time=  15.9s\n",
      "[CV] END ..........................C=10, gamma=1, kernel=rbf; total time=  15.5s\n",
      "[CV] END ..........................C=10, gamma=1, kernel=rbf; total time=  15.4s\n",
      "[CV] END ..........................C=10, gamma=1, kernel=rbf; total time=  15.5s\n",
      "[CV] END ..........................C=10, gamma=1, kernel=rbf; total time=  15.9s\n",
      "[CV] END .....................C=10, gamma=0.1, kernel=linear; total time=  12.1s\n",
      "[CV] END .....................C=10, gamma=0.1, kernel=linear; total time=  11.3s\n",
      "[CV] END .....................C=10, gamma=0.1, kernel=linear; total time=  11.2s\n",
      "[CV] END .....................C=10, gamma=0.1, kernel=linear; total time=  11.8s\n",
      "[CV] END .....................C=10, gamma=0.1, kernel=linear; total time=  11.5s\n",
      "[CV] END ........................C=10, gamma=0.1, kernel=rbf; total time=  19.6s\n",
      "[CV] END ........................C=10, gamma=0.1, kernel=rbf; total time=  22.2s\n",
      "[CV] END ........................C=10, gamma=0.1, kernel=rbf; total time=  24.9s\n",
      "[CV] END ........................C=10, gamma=0.1, kernel=rbf; total time=  23.8s\n",
      "[CV] END ........................C=10, gamma=0.1, kernel=rbf; total time=  23.1s\n",
      "[CV] END ...................C=10, gamma=0.001, kernel=linear; total time=  16.0s\n",
      "[CV] END ...................C=10, gamma=0.001, kernel=linear; total time=  17.3s\n",
      "[CV] END ...................C=10, gamma=0.001, kernel=linear; total time=  15.7s\n",
      "[CV] END ...................C=10, gamma=0.001, kernel=linear; total time=  14.8s\n",
      "[CV] END ...................C=10, gamma=0.001, kernel=linear; total time=  15.5s\n",
      "[CV] END ......................C=10, gamma=0.001, kernel=rbf; total time=  18.6s\n",
      "[CV] END ......................C=10, gamma=0.001, kernel=rbf; total time=  18.9s\n",
      "[CV] END ......................C=10, gamma=0.001, kernel=rbf; total time=  19.2s\n",
      "[CV] END ......................C=10, gamma=0.001, kernel=rbf; total time=  19.7s\n",
      "[CV] END ......................C=10, gamma=0.001, kernel=rbf; total time=  19.6s\n",
      "[CV] END ..................C=10, gamma=0.0001, kernel=linear; total time=  17.3s\n",
      "[CV] END ..................C=10, gamma=0.0001, kernel=linear; total time=  16.3s\n",
      "[CV] END ..................C=10, gamma=0.0001, kernel=linear; total time=  17.1s\n",
      "[CV] END ..................C=10, gamma=0.0001, kernel=linear; total time=  16.3s\n",
      "[CV] END ..................C=10, gamma=0.0001, kernel=linear; total time=  16.2s\n",
      "[CV] END .....................C=10, gamma=0.0001, kernel=rbf; total time=  17.0s\n",
      "[CV] END .....................C=10, gamma=0.0001, kernel=rbf; total time=  15.8s\n",
      "[CV] END .....................C=10, gamma=0.0001, kernel=rbf; total time=  17.1s\n",
      "[CV] END .....................C=10, gamma=0.0001, kernel=rbf; total time=  17.0s\n",
      "[CV] END .....................C=10, gamma=0.0001, kernel=rbf; total time=  17.6s\n",
      "[CV] END ......................C=100, gamma=1, kernel=linear; total time=  26.0s\n",
      "[CV] END ......................C=100, gamma=1, kernel=linear; total time=  25.8s\n",
      "[CV] END ......................C=100, gamma=1, kernel=linear; total time=  25.9s\n",
      "[CV] END ......................C=100, gamma=1, kernel=linear; total time=  25.8s\n",
      "[CV] END ......................C=100, gamma=1, kernel=linear; total time=  25.2s\n",
      "[CV] END .........................C=100, gamma=1, kernel=rbf; total time=  19.0s\n",
      "[CV] END .........................C=100, gamma=1, kernel=rbf; total time=  18.6s\n",
      "[CV] END .........................C=100, gamma=1, kernel=rbf; total time=  18.8s\n",
      "[CV] END .........................C=100, gamma=1, kernel=rbf; total time=  20.2s\n",
      "[CV] END .........................C=100, gamma=1, kernel=rbf; total time=  20.4s\n",
      "[CV] END ....................C=100, gamma=0.1, kernel=linear; total time=  26.9s\n",
      "[CV] END ....................C=100, gamma=0.1, kernel=linear; total time=  25.8s\n",
      "[CV] END ....................C=100, gamma=0.1, kernel=linear; total time=  25.6s\n",
      "[CV] END ....................C=100, gamma=0.1, kernel=linear; total time=  25.6s\n",
      "[CV] END ....................C=100, gamma=0.1, kernel=linear; total time=  24.8s\n",
      "[CV] END .......................C=100, gamma=0.1, kernel=rbf; total time=  33.1s\n",
      "[CV] END .......................C=100, gamma=0.1, kernel=rbf; total time=  34.2s\n",
      "[CV] END .......................C=100, gamma=0.1, kernel=rbf; total time=  33.9s\n",
      "[CV] END .......................C=100, gamma=0.1, kernel=rbf; total time=  34.7s\n",
      "[CV] END .......................C=100, gamma=0.1, kernel=rbf; total time=  35.9s\n",
      "[CV] END ..................C=100, gamma=0.001, kernel=linear; total time=  24.5s\n",
      "[CV] END ..................C=100, gamma=0.001, kernel=linear; total time=  25.5s\n",
      "[CV] END ..................C=100, gamma=0.001, kernel=linear; total time=  25.4s\n",
      "[CV] END ..................C=100, gamma=0.001, kernel=linear; total time=  25.9s\n",
      "[CV] END ..................C=100, gamma=0.001, kernel=linear; total time=  26.0s\n",
      "[CV] END .....................C=100, gamma=0.001, kernel=rbf; total time=  24.3s\n",
      "[CV] END .....................C=100, gamma=0.001, kernel=rbf; total time=  31.1s\n",
      "[CV] END .....................C=100, gamma=0.001, kernel=rbf; total time=  31.6s\n",
      "[CV] END .....................C=100, gamma=0.001, kernel=rbf; total time=  29.7s\n",
      "[CV] END .....................C=100, gamma=0.001, kernel=rbf; total time=  30.6s\n",
      "[CV] END .................C=100, gamma=0.0001, kernel=linear; total time=  26.5s\n",
      "[CV] END .................C=100, gamma=0.0001, kernel=linear; total time=  24.7s\n",
      "[CV] END .................C=100, gamma=0.0001, kernel=linear; total time=  26.1s\n",
      "[CV] END .................C=100, gamma=0.0001, kernel=linear; total time=  25.7s\n",
      "[CV] END .................C=100, gamma=0.0001, kernel=linear; total time=  25.2s\n",
      "[CV] END ....................C=100, gamma=0.0001, kernel=rbf; total time=  20.4s\n",
      "[CV] END ....................C=100, gamma=0.0001, kernel=rbf; total time=  20.2s\n",
      "[CV] END ....................C=100, gamma=0.0001, kernel=rbf; total time=  19.9s\n",
      "[CV] END ....................C=100, gamma=0.0001, kernel=rbf; total time=  20.1s\n",
      "[CV] END ....................C=100, gamma=0.0001, kernel=rbf; total time=  19.7s\n",
      "[CV] END .....................C=1000, gamma=1, kernel=linear; total time= 1.7min\n",
      "[CV] END .....................C=1000, gamma=1, kernel=linear; total time= 1.9min\n",
      "[CV] END .....................C=1000, gamma=1, kernel=linear; total time= 1.8min\n",
      "[CV] END .....................C=1000, gamma=1, kernel=linear; total time= 1.5min\n",
      "[CV] END .....................C=1000, gamma=1, kernel=linear; total time= 1.5min\n",
      "[CV] END ........................C=1000, gamma=1, kernel=rbf; total time=  16.3s\n",
      "[CV] END ........................C=1000, gamma=1, kernel=rbf; total time=  19.2s\n",
      "[CV] END ........................C=1000, gamma=1, kernel=rbf; total time=  19.7s\n",
      "[CV] END ........................C=1000, gamma=1, kernel=rbf; total time=  19.9s\n",
      "[CV] END ........................C=1000, gamma=1, kernel=rbf; total time=  19.6s\n",
      "[CV] END ...................C=1000, gamma=0.1, kernel=linear; total time= 1.8min\n",
      "[CV] END ...................C=1000, gamma=0.1, kernel=linear; total time= 1.8min\n",
      "[CV] END ...................C=1000, gamma=0.1, kernel=linear; total time= 1.9min\n",
      "[CV] END ...................C=1000, gamma=0.1, kernel=linear; total time= 1.8min\n",
      "[CV] END ...................C=1000, gamma=0.1, kernel=linear; total time= 1.8min\n",
      "[CV] END ......................C=1000, gamma=0.1, kernel=rbf; total time= 1.8min\n",
      "[CV] END ......................C=1000, gamma=0.1, kernel=rbf; total time= 1.8min\n",
      "[CV] END ......................C=1000, gamma=0.1, kernel=rbf; total time= 1.7min\n",
      "[CV] END ......................C=1000, gamma=0.1, kernel=rbf; total time= 1.5min\n",
      "[CV] END ......................C=1000, gamma=0.1, kernel=rbf; total time= 1.6min\n",
      "[CV] END .................C=1000, gamma=0.001, kernel=linear; total time= 1.7min\n",
      "[CV] END .................C=1000, gamma=0.001, kernel=linear; total time= 1.8min\n",
      "[CV] END .................C=1000, gamma=0.001, kernel=linear; total time= 1.9min\n",
      "[CV] END .................C=1000, gamma=0.001, kernel=linear; total time= 1.8min\n",
      "[CV] END .................C=1000, gamma=0.001, kernel=linear; total time= 1.8min\n",
      "[CV] END ....................C=1000, gamma=0.001, kernel=rbf; total time= 1.0min\n",
      "[CV] END ....................C=1000, gamma=0.001, kernel=rbf; total time= 1.1min\n",
      "[CV] END ....................C=1000, gamma=0.001, kernel=rbf; total time=  58.5s\n",
      "[CV] END ....................C=1000, gamma=0.001, kernel=rbf; total time=  55.3s\n",
      "[CV] END ....................C=1000, gamma=0.001, kernel=rbf; total time= 1.1min\n",
      "[CV] END ................C=1000, gamma=0.0001, kernel=linear; total time= 1.7min\n",
      "[CV] END ................C=1000, gamma=0.0001, kernel=linear; total time= 1.6min\n",
      "[CV] END ................C=1000, gamma=0.0001, kernel=linear; total time= 1.4min\n",
      "[CV] END ................C=1000, gamma=0.0001, kernel=linear; total time= 1.4min\n",
      "[CV] END ................C=1000, gamma=0.0001, kernel=linear; total time= 1.3min\n",
      "[CV] END ...................C=1000, gamma=0.0001, kernel=rbf; total time=  22.0s\n",
      "[CV] END ...................C=1000, gamma=0.0001, kernel=rbf; total time=  20.3s\n",
      "[CV] END ...................C=1000, gamma=0.0001, kernel=rbf; total time=  19.6s\n",
      "[CV] END ...................C=1000, gamma=0.0001, kernel=rbf; total time=  17.6s\n",
      "[CV] END ...................C=1000, gamma=0.0001, kernel=rbf; total time=  22.7s\n"
     ]
    },
    {
     "data": {
      "text/plain": [
       "GridSearchCV(estimator=SVC(),\n",
       "             param_grid={'C': [1, 10, 100, 1000],\n",
       "                         'gamma': [1, 0.1, 0.001, 0.0001],\n",
       "                         'kernel': ['linear', 'rbf']},\n",
       "             verbose=2)"
      ]
     },
     "execution_count": 333,
     "metadata": {},
     "output_type": "execute_result"
    }
   ],
   "source": [
    "grid.fit(X_train,y_train)"
   ]
  },
  {
   "cell_type": "code",
   "execution_count": 336,
   "metadata": {},
   "outputs": [
    {
     "data": {
      "text/plain": [
       "{'C': 10, 'gamma': 0.1, 'kernel': 'rbf'}"
      ]
     },
     "execution_count": 336,
     "metadata": {},
     "output_type": "execute_result"
    }
   ],
   "source": [
    "grid.best_params_"
   ]
  },
  {
   "cell_type": "code",
   "execution_count": 334,
   "metadata": {},
   "outputs": [],
   "source": [
    "predic = grid.predict(X_test)"
   ]
  },
  {
   "cell_type": "code",
   "execution_count": 335,
   "metadata": {},
   "outputs": [
    {
     "name": "stdout",
     "output_type": "stream",
     "text": [
      "              precision    recall  f1-score   support\n",
      "\n",
      "         3.0       0.35      0.03      0.06       418\n",
      "         4.0       0.59      0.91      0.72      2005\n",
      "         5.0       0.49      0.17      0.26      1071\n",
      "\n",
      "    accuracy                           0.58      3494\n",
      "   macro avg       0.48      0.37      0.34      3494\n",
      "weighted avg       0.53      0.58      0.50      3494\n",
      "\n",
      "[[  13  376   29]\n",
      " [  17 1820  168]\n",
      " [   7  877  187]]\n"
     ]
    }
   ],
   "source": [
    "print(classification_report(y_test,predic))\n",
    "print(confusion_matrix(y_test, predic))"
   ]
  },
  {
   "cell_type": "markdown",
   "metadata": {},
   "source": [
    "#### Predicting Installs"
   ]
  },
  {
   "cell_type": "code",
   "execution_count": 338,
   "metadata": {},
   "outputs": [],
   "source": [
    "# Extract Response and Predictors\n",
    "y = pd.DataFrame(model_df_encoded[\"INSTALLS_GROUP\"])\n",
    "X = pd.DataFrame(model_df_encoded.drop([\"RATING_GROUP\", \"INSTALLS_GROUP\"], axis = 1))\n",
    "\n",
    "# Split the Dataset into Train and Test\n",
    "X_train, X_test, y_train, y_test = train_test_split(X, y, test_size = 0.2, random_state=20)"
   ]
  },
  {
   "cell_type": "code",
   "execution_count": 343,
   "metadata": {},
   "outputs": [],
   "source": [
    "svc_installs = SVC()\n",
    "svc_installs.fit(X_train, y_train)\n",
    "prediction = svc_installs.predict(X_test)\n"
   ]
  },
  {
   "cell_type": "code",
   "execution_count": 344,
   "metadata": {},
   "outputs": [
    {
     "name": "stdout",
     "output_type": "stream",
     "text": [
      "              precision    recall  f1-score   support\n",
      "\n",
      "           0       0.72      0.59      0.65       794\n",
      "           1       0.61      0.65      0.63      1711\n",
      "           2       0.55      0.56      0.55       965\n",
      "           3       0.00      0.00      0.00        24\n",
      "\n",
      "    accuracy                           0.61      3494\n",
      "   macro avg       0.47      0.45      0.46      3494\n",
      "weighted avg       0.61      0.61      0.61      3494\n",
      "\n",
      "[[ 470  296   28    0]\n",
      " [ 187 1112  412    0]\n",
      " [   0  420  545    0]\n",
      " [   0    9   15    0]]\n"
     ]
    }
   ],
   "source": [
    "print(classification_report(y_test,prediction))\n",
    "print(confusion_matrix(y_test, prediction))"
   ]
  }
 ],
 "metadata": {
  "interpreter": {
   "hash": "fe06f96167c4fc64a78c238d993189072a4e72b444216e36203d6f96126eaf0a"
  },
  "kernelspec": {
   "display_name": "Python 3.9.4 64-bit",
   "language": "python",
   "name": "python3"
  },
  "language_info": {
   "codemirror_mode": {
    "name": "ipython",
    "version": 3
   },
   "file_extension": ".py",
   "mimetype": "text/x-python",
   "name": "python",
   "nbconvert_exporter": "python",
   "pygments_lexer": "ipython3",
   "version": "3.9.4"
  },
  "orig_nbformat": 4
 },
 "nbformat": 4,
 "nbformat_minor": 2
}
