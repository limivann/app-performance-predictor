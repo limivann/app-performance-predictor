{
 "cells": [
  {
   "cell_type": "markdown",
   "id": "a9efc001",
   "metadata": {},
   "source": [
    "# App Rating Predictor\n",
    "## Building an app rating predictor using data scraped from the android market\n",
    "### We have scraped some apps from the Google PlayStore, and the primary goals of our project are:\n",
    "- predict the rating\n",
    "- predict installation count\n",
    "- predict whether the app is free or paid \n",
    "- predict whether is it ad-supported"
   ]
  },
  {
   "cell_type": "markdown",
   "id": "2b7524c9",
   "metadata": {},
   "source": [
    "But before we start with the explanatory data analysis, we need to do data cleaning/preprocessing because our dataset is VERY UNSTRUCTURED and RAW."
   ]
  },
  {
   "cell_type": "markdown",
   "id": "3c7b9892",
   "metadata": {},
   "source": [
    "# Table of contents\n",
    "1. <a href='#model building'>Model Building</a>\n",
    "2. <a href='#machine learning'>Machine Learning</a>"
   ]
  },
  {
   "cell_type": "markdown",
   "id": "ed11f1cc",
   "metadata": {},
   "source": [
    "### Import packages"
   ]
  },
  {
   "cell_type": "code",
   "execution_count": 1,
   "id": "82794c82",
   "metadata": {},
   "outputs": [],
   "source": [
    "import pandas as pd\n",
    "import numpy as np\n",
    "import datetime as dt\n",
    "import seaborn as sb\n",
    "sb.set_theme(style=\"white\", palette=None)\n",
    "pd.set_option(\"display.max_columns\", None) #Show all columns, or else some will just be \"...\"\n",
    "\n",
    "import plotly.express as px # shows basic statistics of the figure\n",
    "from dython import nominal # Use for calculating correlation between variables. Including between categorical and numerical variables\n",
    "import matplotlib.pyplot as plt # we only need pyplot\n",
    "\n",
    "import plotly.graph_objects as go # Used as trace for subplots\n",
    "from plotly.subplots import make_subplots"
   ]
  },
  {
   "cell_type": "code",
   "execution_count": 2,
   "id": "fd58288e",
   "metadata": {},
   "outputs": [
    {
     "data": {
      "text/html": [
       "<div>\n",
       "<style scoped>\n",
       "    .dataframe tbody tr th:only-of-type {\n",
       "        vertical-align: middle;\n",
       "    }\n",
       "\n",
       "    .dataframe tbody tr th {\n",
       "        vertical-align: top;\n",
       "    }\n",
       "\n",
       "    .dataframe thead th {\n",
       "        text-align: right;\n",
       "    }\n",
       "</style>\n",
       "<table border=\"1\" class=\"dataframe\">\n",
       "  <thead>\n",
       "    <tr style=\"text-align: right;\">\n",
       "      <th></th>\n",
       "      <th>APP_NAME</th>\n",
       "      <th>RATING</th>\n",
       "      <th>CATEGORY</th>\n",
       "      <th>RATING_COUNT</th>\n",
       "      <th>1_STAR_RATINGS</th>\n",
       "      <th>2_STAR_RATINGS</th>\n",
       "      <th>3_STAR_RATINGS</th>\n",
       "      <th>4_STAR_RATINGS</th>\n",
       "      <th>5_STAR_RATINGS</th>\n",
       "      <th>REVIEW_COUNT</th>\n",
       "      <th>INSTALLS</th>\n",
       "      <th>MAX_INSTALLS</th>\n",
       "      <th>FREE</th>\n",
       "      <th>PRICE</th>\n",
       "      <th>SIZE</th>\n",
       "      <th>DEVELOPER</th>\n",
       "      <th>DEVELOPER_ADDRESS</th>\n",
       "      <th>COUNTRY</th>\n",
       "      <th>CONTENT_RATING</th>\n",
       "      <th>AD_SUPPORTED</th>\n",
       "      <th>IN_APP_PURCHASES</th>\n",
       "      <th>EDITORS_CHOICE</th>\n",
       "      <th>DAYS_SINCE_UPDATE</th>\n",
       "      <th>DAYS_SINCE_RELEASED</th>\n",
       "      <th>INSTALLS_GROUP</th>\n",
       "      <th>PRICEBAND</th>\n",
       "      <th>SIZEBAND</th>\n",
       "    </tr>\n",
       "  </thead>\n",
       "  <tbody>\n",
       "    <tr>\n",
       "      <th>0</th>\n",
       "      <td>\"Ghost Voice Catcher\" AUTO EVP</td>\n",
       "      <td>3.933333</td>\n",
       "      <td>Lifestyle</td>\n",
       "      <td>68</td>\n",
       "      <td>12</td>\n",
       "      <td>1</td>\n",
       "      <td>6</td>\n",
       "      <td>7</td>\n",
       "      <td>42</td>\n",
       "      <td>24.0</td>\n",
       "      <td>1,000+</td>\n",
       "      <td>3608</td>\n",
       "      <td>False</td>\n",
       "      <td>5.99</td>\n",
       "      <td>1100000.0</td>\n",
       "      <td>BIG BEARD Studios</td>\n",
       "      <td>114 1/2 Ash st. Nashua NH 03060</td>\n",
       "      <td>Usa</td>\n",
       "      <td>Everyone</td>\n",
       "      <td>False</td>\n",
       "      <td>False</td>\n",
       "      <td>False</td>\n",
       "      <td>1820.0</td>\n",
       "      <td>3482.0</td>\n",
       "      <td>Less than 100K</td>\n",
       "      <td>normal</td>\n",
       "      <td>small</td>\n",
       "    </tr>\n",
       "    <tr>\n",
       "      <th>1</th>\n",
       "      <td>\"OXXO\"</td>\n",
       "      <td>4.740000</td>\n",
       "      <td>Game</td>\n",
       "      <td>975</td>\n",
       "      <td>23</td>\n",
       "      <td>0</td>\n",
       "      <td>15</td>\n",
       "      <td>94</td>\n",
       "      <td>843</td>\n",
       "      <td>54.0</td>\n",
       "      <td>10,000+</td>\n",
       "      <td>21680</td>\n",
       "      <td>False</td>\n",
       "      <td>0.99</td>\n",
       "      <td>81000000.0</td>\n",
       "      <td>Hamster On Coke Games</td>\n",
       "      <td>ul Jugosłowiańska 37F/10\\n73-110 Stargard Szcz...</td>\n",
       "      <td>NaN</td>\n",
       "      <td>Everyone</td>\n",
       "      <td>False</td>\n",
       "      <td>False</td>\n",
       "      <td>False</td>\n",
       "      <td>0.0</td>\n",
       "      <td>945.0</td>\n",
       "      <td>Less than 100K</td>\n",
       "      <td>cheap</td>\n",
       "      <td>medium</td>\n",
       "    </tr>\n",
       "    <tr>\n",
       "      <th>2</th>\n",
       "      <td>#DRIVE</td>\n",
       "      <td>4.434152</td>\n",
       "      <td>Game</td>\n",
       "      <td>229679</td>\n",
       "      <td>9352</td>\n",
       "      <td>4740</td>\n",
       "      <td>15249</td>\n",
       "      <td>47804</td>\n",
       "      <td>152534</td>\n",
       "      <td>6473.0</td>\n",
       "      <td>5,000,000+</td>\n",
       "      <td>9119244</td>\n",
       "      <td>True</td>\n",
       "      <td>0.00</td>\n",
       "      <td>132000000.0</td>\n",
       "      <td>Pixel Perfect Dude S.A.</td>\n",
       "      <td>ul. Polna 28/6 lok. 4\\n62-800 Kalisz\\nPolska</td>\n",
       "      <td>NaN</td>\n",
       "      <td>Everyone</td>\n",
       "      <td>True</td>\n",
       "      <td>True</td>\n",
       "      <td>False</td>\n",
       "      <td>4.0</td>\n",
       "      <td>1084.0</td>\n",
       "      <td>Between 100K and 10M</td>\n",
       "      <td>Free</td>\n",
       "      <td>large</td>\n",
       "    </tr>\n",
       "    <tr>\n",
       "      <th>3</th>\n",
       "      <td>#SelfCare</td>\n",
       "      <td>4.463476</td>\n",
       "      <td>Game</td>\n",
       "      <td>14932</td>\n",
       "      <td>865</td>\n",
       "      <td>336</td>\n",
       "      <td>1088</td>\n",
       "      <td>1353</td>\n",
       "      <td>11290</td>\n",
       "      <td>1501.0</td>\n",
       "      <td>1,000,000+</td>\n",
       "      <td>1209692</td>\n",
       "      <td>True</td>\n",
       "      <td>0.00</td>\n",
       "      <td>83000000.0</td>\n",
       "      <td>TRU LUV Inc.</td>\n",
       "      <td>186-720 King Street West\\nToronto, Ontario, Ca...</td>\n",
       "      <td>NaN</td>\n",
       "      <td>Teen</td>\n",
       "      <td>False</td>\n",
       "      <td>True</td>\n",
       "      <td>False</td>\n",
       "      <td>952.0</td>\n",
       "      <td>1275.0</td>\n",
       "      <td>Between 100K and 10M</td>\n",
       "      <td>Free</td>\n",
       "      <td>medium</td>\n",
       "    </tr>\n",
       "    <tr>\n",
       "      <th>4</th>\n",
       "      <td>#open Polyamorous + ENM Dating</td>\n",
       "      <td>2.550000</td>\n",
       "      <td>Dating</td>\n",
       "      <td>708</td>\n",
       "      <td>263</td>\n",
       "      <td>163</td>\n",
       "      <td>63</td>\n",
       "      <td>70</td>\n",
       "      <td>149</td>\n",
       "      <td>362.0</td>\n",
       "      <td>50,000+</td>\n",
       "      <td>93463</td>\n",
       "      <td>True</td>\n",
       "      <td>0.00</td>\n",
       "      <td>19000000.0</td>\n",
       "      <td>#open</td>\n",
       "      <td>NaN</td>\n",
       "      <td>NaN</td>\n",
       "      <td>Mature 17+</td>\n",
       "      <td>False</td>\n",
       "      <td>True</td>\n",
       "      <td>False</td>\n",
       "      <td>17.0</td>\n",
       "      <td>1026.0</td>\n",
       "      <td>Less than 100K</td>\n",
       "      <td>Free</td>\n",
       "      <td>small</td>\n",
       "    </tr>\n",
       "  </tbody>\n",
       "</table>\n",
       "</div>"
      ],
      "text/plain": [
       "                         APP_NAME    RATING   CATEGORY  RATING_COUNT  \\\n",
       "0  \"Ghost Voice Catcher\" AUTO EVP  3.933333  Lifestyle            68   \n",
       "1                          \"OXXO\"  4.740000       Game           975   \n",
       "2                          #DRIVE  4.434152       Game        229679   \n",
       "3                       #SelfCare  4.463476       Game         14932   \n",
       "4  #open Polyamorous + ENM Dating  2.550000     Dating           708   \n",
       "\n",
       "   1_STAR_RATINGS  2_STAR_RATINGS  3_STAR_RATINGS  4_STAR_RATINGS  \\\n",
       "0              12               1               6               7   \n",
       "1              23               0              15              94   \n",
       "2            9352            4740           15249           47804   \n",
       "3             865             336            1088            1353   \n",
       "4             263             163              63              70   \n",
       "\n",
       "   5_STAR_RATINGS  REVIEW_COUNT    INSTALLS  MAX_INSTALLS   FREE  PRICE  \\\n",
       "0              42          24.0      1,000+          3608  False   5.99   \n",
       "1             843          54.0     10,000+         21680  False   0.99   \n",
       "2          152534        6473.0  5,000,000+       9119244   True   0.00   \n",
       "3           11290        1501.0  1,000,000+       1209692   True   0.00   \n",
       "4             149         362.0     50,000+         93463   True   0.00   \n",
       "\n",
       "          SIZE                DEVELOPER  \\\n",
       "0    1100000.0        BIG BEARD Studios   \n",
       "1   81000000.0    Hamster On Coke Games   \n",
       "2  132000000.0  Pixel Perfect Dude S.A.   \n",
       "3   83000000.0             TRU LUV Inc.   \n",
       "4   19000000.0                    #open   \n",
       "\n",
       "                                   DEVELOPER_ADDRESS COUNTRY CONTENT_RATING  \\\n",
       "0                    114 1/2 Ash st. Nashua NH 03060     Usa       Everyone   \n",
       "1  ul Jugosłowiańska 37F/10\\n73-110 Stargard Szcz...     NaN       Everyone   \n",
       "2       ul. Polna 28/6 lok. 4\\n62-800 Kalisz\\nPolska     NaN       Everyone   \n",
       "3  186-720 King Street West\\nToronto, Ontario, Ca...     NaN           Teen   \n",
       "4                                                NaN     NaN     Mature 17+   \n",
       "\n",
       "   AD_SUPPORTED  IN_APP_PURCHASES  EDITORS_CHOICE  DAYS_SINCE_UPDATE  \\\n",
       "0         False             False           False             1820.0   \n",
       "1         False             False           False                0.0   \n",
       "2          True              True           False                4.0   \n",
       "3         False              True           False              952.0   \n",
       "4         False              True           False               17.0   \n",
       "\n",
       "   DAYS_SINCE_RELEASED        INSTALLS_GROUP PRICEBAND SIZEBAND  \n",
       "0               3482.0        Less than 100K    normal    small  \n",
       "1                945.0        Less than 100K     cheap   medium  \n",
       "2               1084.0  Between 100K and 10M      Free    large  \n",
       "3               1275.0  Between 100K and 10M      Free   medium  \n",
       "4               1026.0        Less than 100K      Free    small  "
      ]
     },
     "execution_count": 2,
     "metadata": {},
     "output_type": "execute_result"
    }
   ],
   "source": [
    "df = pd.read_csv(\"./datasets/google_app_scrap_cleaned2.csv\")\n",
    "df.head()"
   ]
  },
  {
   "cell_type": "markdown",
   "id": "f953dce6",
   "metadata": {},
   "source": [
    "<a id='model building'></a>\n",
    "## Model Building\n",
    "\n",
    "First we identify the which features are usable in the dataset:\n",
    "1. `RATING` (num)\n",
    "2. `CATEGORY` (cat)\n",
    "3. `INSTALLS_GROUP` (cat)\n",
    "4. `SIZEBAND` (cat)\n",
    "5. `FREE` (cat)\n",
    "6. `PRICEBAND` (cat)\n",
    "7. `AD_SUPPORTED` (cat)\n",
    "8. `CONTENT_RATING` (cat)\n",
    "9. `IN_APP_PURCHASES` (cat)\n",
    "10. `EDITORS_CHOICE` (cat)\n"
   ]
  },
  {
   "cell_type": "code",
   "execution_count": 3,
   "id": "8ceb3341",
   "metadata": {},
   "outputs": [
    {
     "data": {
      "text/html": [
       "<div>\n",
       "<style scoped>\n",
       "    .dataframe tbody tr th:only-of-type {\n",
       "        vertical-align: middle;\n",
       "    }\n",
       "\n",
       "    .dataframe tbody tr th {\n",
       "        vertical-align: top;\n",
       "    }\n",
       "\n",
       "    .dataframe thead th {\n",
       "        text-align: right;\n",
       "    }\n",
       "</style>\n",
       "<table border=\"1\" class=\"dataframe\">\n",
       "  <thead>\n",
       "    <tr style=\"text-align: right;\">\n",
       "      <th></th>\n",
       "      <th>RATING_COUNT</th>\n",
       "      <th>RATING</th>\n",
       "      <th>CATEGORY</th>\n",
       "      <th>INSTALLS_GROUP</th>\n",
       "      <th>SIZEBAND</th>\n",
       "      <th>FREE</th>\n",
       "      <th>PRICEBAND</th>\n",
       "      <th>AD_SUPPORTED</th>\n",
       "      <th>CONTENT_RATING</th>\n",
       "      <th>IN_APP_PURCHASES</th>\n",
       "      <th>EDITORS_CHOICE</th>\n",
       "    </tr>\n",
       "  </thead>\n",
       "  <tbody>\n",
       "    <tr>\n",
       "      <th>0</th>\n",
       "      <td>68</td>\n",
       "      <td>3.933333</td>\n",
       "      <td>Lifestyle</td>\n",
       "      <td>Less than 100K</td>\n",
       "      <td>small</td>\n",
       "      <td>False</td>\n",
       "      <td>normal</td>\n",
       "      <td>False</td>\n",
       "      <td>Everyone</td>\n",
       "      <td>False</td>\n",
       "      <td>False</td>\n",
       "    </tr>\n",
       "    <tr>\n",
       "      <th>1</th>\n",
       "      <td>975</td>\n",
       "      <td>4.740000</td>\n",
       "      <td>Game</td>\n",
       "      <td>Less than 100K</td>\n",
       "      <td>medium</td>\n",
       "      <td>False</td>\n",
       "      <td>cheap</td>\n",
       "      <td>False</td>\n",
       "      <td>Everyone</td>\n",
       "      <td>False</td>\n",
       "      <td>False</td>\n",
       "    </tr>\n",
       "    <tr>\n",
       "      <th>2</th>\n",
       "      <td>229679</td>\n",
       "      <td>4.434152</td>\n",
       "      <td>Game</td>\n",
       "      <td>Between 100K and 10M</td>\n",
       "      <td>large</td>\n",
       "      <td>True</td>\n",
       "      <td>Free</td>\n",
       "      <td>True</td>\n",
       "      <td>Everyone</td>\n",
       "      <td>True</td>\n",
       "      <td>False</td>\n",
       "    </tr>\n",
       "    <tr>\n",
       "      <th>3</th>\n",
       "      <td>14932</td>\n",
       "      <td>4.463476</td>\n",
       "      <td>Game</td>\n",
       "      <td>Between 100K and 10M</td>\n",
       "      <td>medium</td>\n",
       "      <td>True</td>\n",
       "      <td>Free</td>\n",
       "      <td>False</td>\n",
       "      <td>Teen</td>\n",
       "      <td>True</td>\n",
       "      <td>False</td>\n",
       "    </tr>\n",
       "    <tr>\n",
       "      <th>4</th>\n",
       "      <td>708</td>\n",
       "      <td>2.550000</td>\n",
       "      <td>Dating</td>\n",
       "      <td>Less than 100K</td>\n",
       "      <td>small</td>\n",
       "      <td>True</td>\n",
       "      <td>Free</td>\n",
       "      <td>False</td>\n",
       "      <td>Mature 17+</td>\n",
       "      <td>True</td>\n",
       "      <td>False</td>\n",
       "    </tr>\n",
       "  </tbody>\n",
       "</table>\n",
       "</div>"
      ],
      "text/plain": [
       "   RATING_COUNT    RATING   CATEGORY        INSTALLS_GROUP SIZEBAND   FREE  \\\n",
       "0            68  3.933333  Lifestyle        Less than 100K    small  False   \n",
       "1           975  4.740000       Game        Less than 100K   medium  False   \n",
       "2        229679  4.434152       Game  Between 100K and 10M    large   True   \n",
       "3         14932  4.463476       Game  Between 100K and 10M   medium   True   \n",
       "4           708  2.550000     Dating        Less than 100K    small   True   \n",
       "\n",
       "  PRICEBAND  AD_SUPPORTED CONTENT_RATING  IN_APP_PURCHASES  EDITORS_CHOICE  \n",
       "0    normal         False       Everyone             False           False  \n",
       "1     cheap         False       Everyone             False           False  \n",
       "2      Free          True       Everyone              True           False  \n",
       "3      Free         False           Teen              True           False  \n",
       "4      Free         False     Mature 17+              True           False  "
      ]
     },
     "execution_count": 3,
     "metadata": {},
     "output_type": "execute_result"
    }
   ],
   "source": [
    "feature_list = [\"RATING_COUNT\", \"RATING\", \"CATEGORY\", \"INSTALLS_GROUP\", \"SIZEBAND\", \"FREE\", \"PRICEBAND\", \"AD_SUPPORTED\", \"CONTENT_RATING\", \"IN_APP_PURCHASES\", \"EDITORS_CHOICE\"]\n",
    "model_df = df[feature_list].copy()\n",
    "model_df.head()"
   ]
  },
  {
   "cell_type": "markdown",
   "id": "c37e885b",
   "metadata": {},
   "source": [
    "Handling null values"
   ]
  },
  {
   "cell_type": "code",
   "execution_count": 4,
   "id": "da8e5cb7",
   "metadata": {},
   "outputs": [
    {
     "data": {
      "text/plain": [
       "RATING_COUNT        0\n",
       "RATING              0\n",
       "CATEGORY            0\n",
       "INSTALLS_GROUP      0\n",
       "SIZEBAND            0\n",
       "FREE                0\n",
       "PRICEBAND           0\n",
       "AD_SUPPORTED        0\n",
       "CONTENT_RATING      0\n",
       "IN_APP_PURCHASES    0\n",
       "EDITORS_CHOICE      0\n",
       "dtype: int64"
      ]
     },
     "execution_count": 4,
     "metadata": {},
     "output_type": "execute_result"
    }
   ],
   "source": [
    "model_df.isna().sum()"
   ]
  },
  {
   "cell_type": "markdown",
   "id": "bdf1b07a",
   "metadata": {},
   "source": [
    "Seems like there are no null values in our dataset :)"
   ]
  },
  {
   "cell_type": "code",
   "execution_count": 5,
   "id": "e8792699",
   "metadata": {},
   "outputs": [
    {
     "data": {
      "text/plain": [
       "Between 100K and 10M    8498\n",
       "Less than 100K          7939\n",
       "More than 10M           1038\n",
       "Name: INSTALLS_GROUP, dtype: int64"
      ]
     },
     "execution_count": 5,
     "metadata": {},
     "output_type": "execute_result"
    }
   ],
   "source": [
    "model_df[\"INSTALLS_GROUP\"].value_counts()"
   ]
  },
  {
   "cell_type": "code",
   "execution_count": 6,
   "id": "36b860ee",
   "metadata": {},
   "outputs": [
    {
     "data": {
      "text/plain": [
       "55508.0"
      ]
     },
     "execution_count": 6,
     "metadata": {},
     "output_type": "execute_result"
    }
   ],
   "source": [
    "model_df[\"RATING_COUNT\"].quantile(0.75) - model_df[\"RATING_COUNT\"].quantile(0.25) "
   ]
  },
  {
   "cell_type": "code",
   "execution_count": 7,
   "id": "684bb25b",
   "metadata": {},
   "outputs": [
    {
     "data": {
      "text/plain": [
       "(9476, 11)"
      ]
     },
     "execution_count": 7,
     "metadata": {},
     "output_type": "execute_result"
    }
   ],
   "source": [
    "benchmark = 5000\n",
    "model_df = model_df[model_df[\"RATING_COUNT\"] > benchmark]\n",
    "model_df.reset_index(inplace=True, drop=True)\n",
    "model_df.shape"
   ]
  },
  {
   "cell_type": "markdown",
   "id": "2baed1f7",
   "metadata": {},
   "source": [
    "### Data Preprocessing"
   ]
  },
  {
   "cell_type": "markdown",
   "id": "e981f3ae",
   "metadata": {},
   "source": [
    "From eda, we noticed that RATING is skewed towards 4 and 5, so we categorize the rating into low (less than or equal to 3.5), medium (3.5 to 4.6) and high (greater than 4.6)"
   ]
  },
  {
   "cell_type": "code",
   "execution_count": 8,
   "id": "f686d027",
   "metadata": {},
   "outputs": [
    {
     "data": {
      "text/plain": [
       "Medium    6757\n",
       "High      2196\n",
       "Low        523\n",
       "Name: RATING_GROUP, dtype: int64"
      ]
     },
     "execution_count": 8,
     "metadata": {},
     "output_type": "execute_result"
    }
   ],
   "source": [
    "#Categorize\n",
    "model_df.loc[model_df[\"RATING\"] <=3.5 , \"RATING_GROUP\"] = \"Low\"\n",
    "model_df.loc[(model_df[\"RATING\"] >3.5) & (model_df[\"RATING\"] <=4.6) , \"RATING_GROUP\"] = \"Medium\"\n",
    "model_df.loc[model_df[\"RATING\"] >4.6 , \"RATING_GROUP\"] = \"High\"\n",
    "model_df.drop([\"RATING\"], axis = 1,inplace= True)\n",
    "model_df[\"RATING_GROUP\"].value_counts()"
   ]
  },
  {
   "cell_type": "markdown",
   "id": "a79a8c38",
   "metadata": {},
   "source": [
    "For `CATEGORY`, we noticed from eda that most apps falls under \"Game\" category, with that we change the category values to either \"Game\" or \"Non Game\""
   ]
  },
  {
   "cell_type": "code",
   "execution_count": 9,
   "id": "794a07a3",
   "metadata": {},
   "outputs": [
    {
     "data": {
      "text/plain": [
       "Non Game    5222\n",
       "Game        4254\n",
       "Name: CATEGORY, dtype: int64"
      ]
     },
     "execution_count": 9,
     "metadata": {},
     "output_type": "execute_result"
    }
   ],
   "source": [
    "model_df.loc[model_df[\"CATEGORY\"] != \"Game\", \"CATEGORY\"] = \"Non Game\"\n",
    "model_df[\"CATEGORY\"].value_counts()"
   ]
  },
  {
   "cell_type": "markdown",
   "id": "d8d66d51",
   "metadata": {},
   "source": [
    "For `CONTENT_RATING`, we just include Everyone, Teens and Adult"
   ]
  },
  {
   "cell_type": "code",
   "execution_count": 10,
   "id": "b2b2e971",
   "metadata": {},
   "outputs": [
    {
     "data": {
      "text/plain": [
       "Everyone    7118\n",
       "Teen        1851\n",
       "Adults       507\n",
       "Name: CONTENT_RATING, dtype: int64"
      ]
     },
     "execution_count": 10,
     "metadata": {},
     "output_type": "execute_result"
    }
   ],
   "source": [
    "model_df['CONTENT_RATING'] = model_df['CONTENT_RATING'].replace('Mature 17+',\"Adults\")\n",
    "model_df['CONTENT_RATING'] = model_df['CONTENT_RATING'].replace('Adults only 18+',\"Adults\")\n",
    "model_df['CONTENT_RATING'] = model_df['CONTENT_RATING'].replace('Everyone 10+',\"Everyone\")\n",
    "model_df[\"CONTENT_RATING\"].value_counts()"
   ]
  },
  {
   "cell_type": "markdown",
   "id": "061bbbb3",
   "metadata": {},
   "source": [
    "#### Handling categorical values\n",
    "\n",
    "Before we continue, our categorical variables are further divided into 2 types —\n",
    "- Ordinal categorical variables - `INSTALLS_GROUP`, `SIZEBAND`, `PRICEBAND`, `RATING_GROUP`,`FREE`, `AD_SUPPORTED`, `IN_APP_PURCHASES`, `EDITORS_CHOICE`\n",
    "- Nominal categorical variable - `CATEGORY`,  `CONTENT_RATING`"
   ]
  },
  {
   "cell_type": "code",
   "execution_count": 11,
   "id": "aa36d2b9",
   "metadata": {},
   "outputs": [],
   "source": [
    "nominal_cat = [\"CONTENT_RATING\", \"CATEGORY\"]\n",
    "ordinal_cat = [\"INSTALLS_GROUP\", \"SIZEBAND\", \"PRICEBAND\", \"RATING_GROUP\",\"FREE\",\"AD_SUPPORTED\", \"IN_APP_PURCHASES\",\"EDITORS_CHOICE\"]"
   ]
  },
  {
   "cell_type": "markdown",
   "id": "01cb06d2",
   "metadata": {},
   "source": [
    "**Handling Ordinal Categorical Variables**"
   ]
  },
  {
   "cell_type": "code",
   "execution_count": 12,
   "id": "8102bb30",
   "metadata": {},
   "outputs": [
    {
     "data": {
      "text/html": [
       "<div>\n",
       "<style scoped>\n",
       "    .dataframe tbody tr th:only-of-type {\n",
       "        vertical-align: middle;\n",
       "    }\n",
       "\n",
       "    .dataframe tbody tr th {\n",
       "        vertical-align: top;\n",
       "    }\n",
       "\n",
       "    .dataframe thead th {\n",
       "        text-align: right;\n",
       "    }\n",
       "</style>\n",
       "<table border=\"1\" class=\"dataframe\">\n",
       "  <thead>\n",
       "    <tr style=\"text-align: right;\">\n",
       "      <th></th>\n",
       "      <th>INSTALLS_GROUP</th>\n",
       "      <th>PRICEBAND</th>\n",
       "      <th>SIZEBAND</th>\n",
       "      <th>RATING_GROUP</th>\n",
       "      <th>FREE</th>\n",
       "      <th>AD_SUPPORTED</th>\n",
       "      <th>IN_APP_PURCHASES</th>\n",
       "      <th>EDITORS_CHOICE</th>\n",
       "    </tr>\n",
       "  </thead>\n",
       "  <tbody>\n",
       "    <tr>\n",
       "      <th>0</th>\n",
       "      <td>1</td>\n",
       "      <td>0</td>\n",
       "      <td>2</td>\n",
       "      <td>1</td>\n",
       "      <td>1</td>\n",
       "      <td>1</td>\n",
       "      <td>1</td>\n",
       "      <td>0</td>\n",
       "    </tr>\n",
       "    <tr>\n",
       "      <th>1</th>\n",
       "      <td>1</td>\n",
       "      <td>0</td>\n",
       "      <td>1</td>\n",
       "      <td>1</td>\n",
       "      <td>1</td>\n",
       "      <td>0</td>\n",
       "      <td>1</td>\n",
       "      <td>0</td>\n",
       "    </tr>\n",
       "    <tr>\n",
       "      <th>2</th>\n",
       "      <td>1</td>\n",
       "      <td>0</td>\n",
       "      <td>2</td>\n",
       "      <td>1</td>\n",
       "      <td>1</td>\n",
       "      <td>0</td>\n",
       "      <td>1</td>\n",
       "      <td>0</td>\n",
       "    </tr>\n",
       "    <tr>\n",
       "      <th>3</th>\n",
       "      <td>2</td>\n",
       "      <td>0</td>\n",
       "      <td>0</td>\n",
       "      <td>1</td>\n",
       "      <td>1</td>\n",
       "      <td>0</td>\n",
       "      <td>1</td>\n",
       "      <td>0</td>\n",
       "    </tr>\n",
       "    <tr>\n",
       "      <th>4</th>\n",
       "      <td>1</td>\n",
       "      <td>0</td>\n",
       "      <td>2</td>\n",
       "      <td>1</td>\n",
       "      <td>1</td>\n",
       "      <td>1</td>\n",
       "      <td>0</td>\n",
       "      <td>0</td>\n",
       "    </tr>\n",
       "  </tbody>\n",
       "</table>\n",
       "</div>"
      ],
      "text/plain": [
       "   INSTALLS_GROUP  PRICEBAND  SIZEBAND  RATING_GROUP  FREE  AD_SUPPORTED  \\\n",
       "0               1          0         2             1     1             1   \n",
       "1               1          0         1             1     1             0   \n",
       "2               1          0         2             1     1             0   \n",
       "3               2          0         0             1     1             0   \n",
       "4               1          0         2             1     1             1   \n",
       "\n",
       "   IN_APP_PURCHASES  EDITORS_CHOICE  \n",
       "0                 1               0  \n",
       "1                 1               0  \n",
       "2                 1               0  \n",
       "3                 1               0  \n",
       "4                 0               0  "
      ]
     },
     "execution_count": 12,
     "metadata": {},
     "output_type": "execute_result"
    }
   ],
   "source": [
    "ig_mapping = {\"Less than 100K\": 0, \"Between 100K and 10M\": 1, \"More than 10M\": 2}\n",
    "pb_mapping = {\"Free\": 0, \"cheap\": 1, \"normal\": 2, \"expensive\": 3}\n",
    "sb_mapping = {\"small\": 0, \"medium\": 1, \"large\": 2 }\n",
    "rg_mapping = {\"Low\": 0, \"Medium\": 1, \"High\": 2}\n",
    "free_mapping = {False: 0, True: 1}\n",
    "ads_mapping = {False: 0, True: 1}\n",
    "iap_mapping = {False: 0, True: 1}\n",
    "ec_mapping = {False: 0, True: 1}\n",
    " \n",
    "model_df[\"INSTALLS_GROUP\"] = model_df[\"INSTALLS_GROUP\"].map(ig_mapping)\n",
    "model_df[\"PRICEBAND\"] = model_df[\"PRICEBAND\"].map(pb_mapping)\n",
    "model_df[\"SIZEBAND\"] = model_df[\"SIZEBAND\"].map(sb_mapping)\n",
    "model_df[\"RATING_GROUP\"] = model_df[\"RATING_GROUP\"].map(rg_mapping)\n",
    "model_df[\"FREE\"] = model_df[\"FREE\"].map(free_mapping)\n",
    "model_df[\"AD_SUPPORTED\"] = model_df[\"AD_SUPPORTED\"].map(ads_mapping)\n",
    "model_df[\"IN_APP_PURCHASES\"] = model_df[\"IN_APP_PURCHASES\"].map(iap_mapping)\n",
    "model_df[\"EDITORS_CHOICE\"] = model_df[\"EDITORS_CHOICE\"].map(ec_mapping)\n",
    "\n",
    "model_df[[\"INSTALLS_GROUP\", \"PRICEBAND\", \"SIZEBAND\", \"RATING_GROUP\",\"FREE\",\"AD_SUPPORTED\", \"IN_APP_PURCHASES\",\"EDITORS_CHOICE\"]].head()"
   ]
  },
  {
   "cell_type": "markdown",
   "id": "92a6adbf",
   "metadata": {},
   "source": [
    "**Handling Nominal Categorical Variables**"
   ]
  },
  {
   "cell_type": "code",
   "execution_count": 13,
   "id": "881168bd",
   "metadata": {},
   "outputs": [
    {
     "name": "stdout",
     "output_type": "stream",
     "text": [
      "<class 'pandas.core.frame.DataFrame'>\n",
      "RangeIndex: 9476 entries, 0 to 9475\n",
      "Data columns (total 5 columns):\n",
      " #   Column                   Non-Null Count  Dtype  \n",
      "---  ------                   --------------  -----  \n",
      " 0   CONTENT_RATING_Adults    9476 non-null   float64\n",
      " 1   CONTENT_RATING_Everyone  9476 non-null   float64\n",
      " 2   CONTENT_RATING_Teen      9476 non-null   float64\n",
      " 3   CATEGORY_Game            9476 non-null   float64\n",
      " 4   CATEGORY_Non Game        9476 non-null   float64\n",
      "dtypes: float64(5)\n",
      "memory usage: 370.3 KB\n"
     ]
    }
   ],
   "source": [
    "# Import the encoder from sklearn\n",
    "from sklearn.preprocessing import OneHotEncoder\n",
    "ohe = OneHotEncoder()\n",
    "\n",
    "# OneHotEncoding of categorical predictors \n",
    "model_df_cat = model_df[nominal_cat]\n",
    "ohe.fit(model_df_cat)\n",
    "model_df_cat_ohe = pd.DataFrame(ohe.transform(model_df_cat).toarray(), \n",
    "                                  columns=ohe.get_feature_names_out(model_df_cat.columns))\n",
    "\n",
    "# Check the encoded variables\n",
    "model_df_cat_ohe.info()"
   ]
  },
  {
   "cell_type": "code",
   "execution_count": 14,
   "id": "0879a5a3",
   "metadata": {},
   "outputs": [
    {
     "name": "stdout",
     "output_type": "stream",
     "text": [
      "<class 'pandas.core.frame.DataFrame'>\n",
      "RangeIndex: 9476 entries, 0 to 9475\n",
      "Data columns (total 13 columns):\n",
      " #   Column                   Non-Null Count  Dtype  \n",
      "---  ------                   --------------  -----  \n",
      " 0   CONTENT_RATING_Adults    9476 non-null   float64\n",
      " 1   CONTENT_RATING_Everyone  9476 non-null   float64\n",
      " 2   CONTENT_RATING_Teen      9476 non-null   float64\n",
      " 3   CATEGORY_Game            9476 non-null   float64\n",
      " 4   CATEGORY_Non Game        9476 non-null   float64\n",
      " 5   INSTALLS_GROUP           9476 non-null   int64  \n",
      " 6   SIZEBAND                 9476 non-null   int64  \n",
      " 7   PRICEBAND                9476 non-null   int64  \n",
      " 8   RATING_GROUP             9476 non-null   int64  \n",
      " 9   FREE                     9476 non-null   int64  \n",
      " 10  AD_SUPPORTED             9476 non-null   int64  \n",
      " 11  IN_APP_PURCHASES         9476 non-null   int64  \n",
      " 12  EDITORS_CHOICE           9476 non-null   int64  \n",
      "dtypes: float64(5), int64(8)\n",
      "memory usage: 962.5 KB\n"
     ]
    }
   ],
   "source": [
    "# Combine all features\n",
    "model_df_ord = model_df[ordinal_cat]\n",
    "model_df_encoded = pd.concat([ model_df_cat_ohe, model_df_ord], \n",
    "                           sort = False, axis = 1).reindex(index=model_df_ord.index)\n",
    "\n",
    "# Check the final dataframe\n",
    "model_df_encoded.info()"
   ]
  },
  {
   "cell_type": "code",
   "execution_count": 15,
   "id": "013fa67a",
   "metadata": {},
   "outputs": [
    {
     "data": {
      "text/html": [
       "<div>\n",
       "<style scoped>\n",
       "    .dataframe tbody tr th:only-of-type {\n",
       "        vertical-align: middle;\n",
       "    }\n",
       "\n",
       "    .dataframe tbody tr th {\n",
       "        vertical-align: top;\n",
       "    }\n",
       "\n",
       "    .dataframe thead th {\n",
       "        text-align: right;\n",
       "    }\n",
       "</style>\n",
       "<table border=\"1\" class=\"dataframe\">\n",
       "  <thead>\n",
       "    <tr style=\"text-align: right;\">\n",
       "      <th></th>\n",
       "      <th>CONTENT_RATING_Adults</th>\n",
       "      <th>CONTENT_RATING_Everyone</th>\n",
       "      <th>CONTENT_RATING_Teen</th>\n",
       "      <th>CATEGORY_Game</th>\n",
       "      <th>CATEGORY_Non Game</th>\n",
       "      <th>INSTALLS_GROUP</th>\n",
       "      <th>SIZEBAND</th>\n",
       "      <th>PRICEBAND</th>\n",
       "      <th>RATING_GROUP</th>\n",
       "      <th>FREE</th>\n",
       "      <th>AD_SUPPORTED</th>\n",
       "      <th>IN_APP_PURCHASES</th>\n",
       "      <th>EDITORS_CHOICE</th>\n",
       "    </tr>\n",
       "  </thead>\n",
       "  <tbody>\n",
       "    <tr>\n",
       "      <th>0</th>\n",
       "      <td>0.0</td>\n",
       "      <td>1.0</td>\n",
       "      <td>0.0</td>\n",
       "      <td>1.0</td>\n",
       "      <td>0.0</td>\n",
       "      <td>1</td>\n",
       "      <td>2</td>\n",
       "      <td>0</td>\n",
       "      <td>1</td>\n",
       "      <td>1</td>\n",
       "      <td>1</td>\n",
       "      <td>1</td>\n",
       "      <td>0</td>\n",
       "    </tr>\n",
       "    <tr>\n",
       "      <th>1</th>\n",
       "      <td>0.0</td>\n",
       "      <td>0.0</td>\n",
       "      <td>1.0</td>\n",
       "      <td>1.0</td>\n",
       "      <td>0.0</td>\n",
       "      <td>1</td>\n",
       "      <td>1</td>\n",
       "      <td>0</td>\n",
       "      <td>1</td>\n",
       "      <td>1</td>\n",
       "      <td>0</td>\n",
       "      <td>1</td>\n",
       "      <td>0</td>\n",
       "    </tr>\n",
       "    <tr>\n",
       "      <th>2</th>\n",
       "      <td>0.0</td>\n",
       "      <td>1.0</td>\n",
       "      <td>0.0</td>\n",
       "      <td>0.0</td>\n",
       "      <td>1.0</td>\n",
       "      <td>1</td>\n",
       "      <td>2</td>\n",
       "      <td>0</td>\n",
       "      <td>1</td>\n",
       "      <td>1</td>\n",
       "      <td>0</td>\n",
       "      <td>1</td>\n",
       "      <td>0</td>\n",
       "    </tr>\n",
       "    <tr>\n",
       "      <th>3</th>\n",
       "      <td>0.0</td>\n",
       "      <td>1.0</td>\n",
       "      <td>0.0</td>\n",
       "      <td>0.0</td>\n",
       "      <td>1.0</td>\n",
       "      <td>2</td>\n",
       "      <td>0</td>\n",
       "      <td>0</td>\n",
       "      <td>1</td>\n",
       "      <td>1</td>\n",
       "      <td>0</td>\n",
       "      <td>1</td>\n",
       "      <td>0</td>\n",
       "    </tr>\n",
       "    <tr>\n",
       "      <th>4</th>\n",
       "      <td>0.0</td>\n",
       "      <td>1.0</td>\n",
       "      <td>0.0</td>\n",
       "      <td>1.0</td>\n",
       "      <td>0.0</td>\n",
       "      <td>1</td>\n",
       "      <td>2</td>\n",
       "      <td>0</td>\n",
       "      <td>1</td>\n",
       "      <td>1</td>\n",
       "      <td>1</td>\n",
       "      <td>0</td>\n",
       "      <td>0</td>\n",
       "    </tr>\n",
       "  </tbody>\n",
       "</table>\n",
       "</div>"
      ],
      "text/plain": [
       "   CONTENT_RATING_Adults  CONTENT_RATING_Everyone  CONTENT_RATING_Teen  \\\n",
       "0                    0.0                      1.0                  0.0   \n",
       "1                    0.0                      0.0                  1.0   \n",
       "2                    0.0                      1.0                  0.0   \n",
       "3                    0.0                      1.0                  0.0   \n",
       "4                    0.0                      1.0                  0.0   \n",
       "\n",
       "   CATEGORY_Game  CATEGORY_Non Game  INSTALLS_GROUP  SIZEBAND  PRICEBAND  \\\n",
       "0            1.0                0.0               1         2          0   \n",
       "1            1.0                0.0               1         1          0   \n",
       "2            0.0                1.0               1         2          0   \n",
       "3            0.0                1.0               2         0          0   \n",
       "4            1.0                0.0               1         2          0   \n",
       "\n",
       "   RATING_GROUP  FREE  AD_SUPPORTED  IN_APP_PURCHASES  EDITORS_CHOICE  \n",
       "0             1     1             1                 1               0  \n",
       "1             1     1             0                 1               0  \n",
       "2             1     1             0                 1               0  \n",
       "3             1     1             0                 1               0  \n",
       "4             1     1             1                 0               0  "
      ]
     },
     "execution_count": 15,
     "metadata": {},
     "output_type": "execute_result"
    }
   ],
   "source": [
    "model_df_encoded.head()"
   ]
  },
  {
   "cell_type": "markdown",
   "id": "dfa01b04",
   "metadata": {},
   "source": [
    "<a id='machine learning'></a>\n",
    "## Machine learning\n",
    "### Predict `RATING_GROUP`"
   ]
  },
  {
   "cell_type": "code",
   "execution_count": 16,
   "id": "44465685",
   "metadata": {},
   "outputs": [],
   "source": [
    "from sklearn.model_selection import train_test_split, cross_val_score\n",
    "\n",
    "\n",
    "# machine learning\n",
    "from sklearn.linear_model import LogisticRegression\n",
    "from sklearn.svm import SVC, LinearSVC\n",
    "from sklearn.ensemble import RandomForestClassifier\n",
    "from sklearn.neighbors import KNeighborsClassifier\n",
    "from sklearn.naive_bayes import GaussianNB\n",
    "from sklearn.linear_model import Perceptron\n",
    "from sklearn.linear_model import SGDClassifier\n",
    "from sklearn.tree import DecisionTreeClassifier\n",
    "\n",
    "from sklearn.model_selection import train_test_split\n",
    "from sklearn.ensemble import RandomForestClassifier,GradientBoostingClassifier\n",
    "from sklearn.linear_model import LogisticRegression\n",
    "from sklearn.metrics import accuracy_score,confusion_matrix,ConfusionMatrixDisplay,classification_report, f1_score\n",
    "from sklearn.model_selection import GridSearchCV\n",
    "\n",
    "from sklearn.model_selection import StratifiedKFold\n",
    "from sklearn.metrics import roc_curve, auc\n",
    "\n",
    "import warnings\n",
    "warnings.filterwarnings('ignore')"
   ]
  },
  {
   "cell_type": "markdown",
   "id": "78692eea",
   "metadata": {},
   "source": [
    "**Creating a Model for RATING_GROUP: Attempt 1 (Naive Attempt)**\n",
    "\n",
    "Since our data are mostly categorical variables, we chose Decision Tree as our model.\n",
    "\n",
    "Our predictors for `RATING_GROUP`: `CONTENT_RATING`, `CATEGORY`, `INSTALLS_GROUP`, `SIZEBAND`, `PRICEBAND`, `FREE`, `AD_SUPPORTED`, `IN_APP_PURCHASES`, `EDITORS_CHOICE`"
   ]
  },
  {
   "cell_type": "code",
   "execution_count": 17,
   "id": "dd62d163",
   "metadata": {},
   "outputs": [
    {
     "data": {
      "text/plain": [
       "DecisionTreeClassifier()"
      ]
     },
     "execution_count": 17,
     "metadata": {},
     "output_type": "execute_result"
    }
   ],
   "source": [
    "# Extract Response and Predictors\n",
    "response = \"RATING_GROUP\"\n",
    "y = pd.DataFrame(model_df_encoded[response])\n",
    "X = pd.DataFrame(model_df_encoded.drop(response, axis = 1))\n",
    "\n",
    "# Split the Dataset into Train and Test\n",
    "X_train, X_test, y_train, y_test = train_test_split(X, y, test_size = 0.25, random_state=99)\n",
    "\n",
    "#Fit the model\n",
    "decision_tree = DecisionTreeClassifier() #set max-depth to default\n",
    "decision_tree.fit(X_train, y_train)"
   ]
  },
  {
   "cell_type": "markdown",
   "id": "828ac022",
   "metadata": {},
   "source": [
    "Check the accuracy of the model"
   ]
  },
  {
   "cell_type": "code",
   "execution_count": 18,
   "id": "cdc7589d",
   "metadata": {},
   "outputs": [
    {
     "name": "stdout",
     "output_type": "stream",
     "text": [
      "Train Data\n",
      "              precision    recall  f1-score   support\n",
      "\n",
      "           0       0.60      0.04      0.07       395\n",
      "           1       0.73      0.98      0.83      5040\n",
      "           2       0.61      0.10      0.18      1672\n",
      "\n",
      "    accuracy                           0.72      7107\n",
      "   macro avg       0.65      0.37      0.36      7107\n",
      "weighted avg       0.69      0.72      0.64      7107\n",
      "\n",
      "\n",
      "Train Data\n",
      "              precision    recall  f1-score   support\n",
      "\n",
      "           0       0.07      0.01      0.01       128\n",
      "           1       0.73      0.96      0.83      1717\n",
      "           2       0.41      0.08      0.13       524\n",
      "\n",
      "    accuracy                           0.72      2369\n",
      "   macro avg       0.41      0.35      0.33      2369\n",
      "weighted avg       0.63      0.72      0.63      2369\n",
      "\n"
     ]
    },
    {
     "data": {
      "text/plain": [
       "<AxesSubplot:>"
      ]
     },
     "execution_count": 18,
     "metadata": {},
     "output_type": "execute_result"
    },
    {
     "data": {
      "image/png": "[encoded data removed]",
      "text/plain": [
       "<Figure size 1296x432 with 4 Axes>"
      ]
     },
     "metadata": {},
     "output_type": "display_data"
    }
   ],
   "source": [
    "y_train_pred = decision_tree.predict(X_train)\n",
    "y_test_pred = decision_tree.predict(X_test)\n",
    "\n",
    "# Print the Classification Report\n",
    "print(\"Train Data\")\n",
    "print(classification_report(y_train,y_train_pred))\n",
    "print()\n",
    "\n",
    "print(\"Train Data\")\n",
    "print(classification_report(y_test,y_test_pred))\n",
    "\n",
    "# Plot the three-way Confusion Matrix\n",
    "f, axes = plt.subplots(1, 2, figsize=(18, 6))\n",
    "sb.heatmap(confusion_matrix(y_train, y_train_pred), \n",
    "           annot = True, fmt=\".0f\", annot_kws={\"size\": 18}, ax=axes[0])\n",
    "sb.heatmap(confusion_matrix(y_test, y_test_pred), \n",
    "           annot = True, fmt=\".0f\", annot_kws={\"size\": 18}, ax=axes[1])"
   ]
  },
  {
   "cell_type": "markdown",
   "id": "c5f2e71f",
   "metadata": {},
   "source": [
    "**Creating a Model for RATING_GROUP: Attempt 2 (GridSearchCV)**\n",
    "\n",
    "Here we try to use many decision trees to predict `RATING_GROUP` in which we are going to use the Random Forest model. At the same time, we are using Cross-Validation to find the best Hyper-parameters of this random forest model. "
   ]
  },
  {
   "cell_type": "code",
   "execution_count": 19,
   "id": "f316b2a3",
   "metadata": {},
   "outputs": [],
   "source": [
    "from sklearn import decomposition, datasets\n",
    "from sklearn import tree\n",
    "from sklearn.pipeline import Pipeline\n",
    "from sklearn.model_selection import GridSearchCV\n",
    "from sklearn.preprocessing import StandardScaler\n",
    "\n",
    "# Extract Response and Predictors\n",
    "response = \"RATING_GROUP\"\n",
    "y = pd.DataFrame(model_df_encoded[response])\n",
    "X = pd.DataFrame(model_df_encoded.drop(response, axis = 1))\n",
    "\n",
    "# Split the Dataset into Train and Test\n",
    "X_train, X_test, y_train, y_test = train_test_split(X, y, test_size = 0.25, random_state=99)"
   ]
  },
  {
   "cell_type": "code",
   "execution_count": 20,
   "id": "ebc38485",
   "metadata": {},
   "outputs": [
    {
     "data": {
      "text/plain": [
       "GridSearchCV(cv=5, estimator=RandomForestClassifier(random_state=42),\n",
       "             param_grid={'criterion': ['gini', 'entropy'],\n",
       "                         'max_depth': [4, 6, 8, 10, 12, 14, 16],\n",
       "                         'max_features': ['auto', 'sqrt', 'log2'],\n",
       "                         'n_estimators': [1, 100, 500, 1000]})"
      ]
     },
     "execution_count": 20,
     "metadata": {},
     "output_type": "execute_result"
    }
   ],
   "source": [
    "rfc= RandomForestClassifier(random_state=42)\n",
    "param_grid = { \n",
    "    'n_estimators': [1, 100, 500, 1000],\n",
    "    'max_features': ['auto', 'sqrt', 'log2'],\n",
    "    'max_depth' : [4,6,8,10,12,14,16],\n",
    "    'criterion' :['gini', 'entropy']\n",
    "}\n",
    "CV_rfc = GridSearchCV(estimator=rfc, param_grid=param_grid, cv= 5)\n",
    "CV_rfc.fit(X_train, y_train)"
   ]
  },
  {
   "cell_type": "markdown",
   "id": "a183cb5b",
   "metadata": {},
   "source": [
    "max_depth = np.arange(10,20)\n",
    "\n",
    "for val in max_depth:\n",
    "    score = cross_val_score(tree.DecisionTreeClassifier(max_depth=12), X, y, cv= kf, scoring=\"accuracy\")\n",
    "    print(f'Average score({val}): {\"{:.3f}\".format(score.mean())}')"
   ]
  },
  {
   "cell_type": "code",
   "execution_count": 21,
   "id": "e3db92ae",
   "metadata": {},
   "outputs": [
    {
     "name": "stdout",
     "output_type": "stream",
     "text": [
      "[[   0  124    4]\n",
      " [   2 1650   65]\n",
      " [   1  477   46]]\n"
     ]
    }
   ],
   "source": [
    "from sklearn.ensemble import RandomForestClassifier\n",
    "\n",
    "#fit\n",
    "model_rf = RandomForestClassifier(criterion='entropy')\n",
    "model_rf.fit(X_train, y_train)\n",
    "\n",
    "#predict y\n",
    "y_pred_test_rf = model_rf.predict(X_test)\n",
    "\n",
    "#score\n",
    "print(confusion_matrix(y_test, y_pred_test_rf))"
   ]
  },
  {
   "cell_type": "code",
   "execution_count": 22,
   "id": "88151f40",
   "metadata": {},
   "outputs": [
    {
     "name": "stdout",
     "output_type": "stream",
     "text": [
      "RandomForestClassifier(max_depth=4, random_state=42)\n",
      "0.7091600673442664\n"
     ]
    }
   ],
   "source": [
    "# Fetch the best Model or the best set of Hyper-parameters\n",
    "print(CV_rfc.best_estimator_)\n",
    "\n",
    "# Print the score (accuracy) of the best Model after CV\n",
    "print(np.abs(CV_rfc.best_score_))"
   ]
  },
  {
   "cell_type": "code",
   "execution_count": 23,
   "id": "fe928338",
   "metadata": {},
   "outputs": [
    {
     "name": "stdout",
     "output_type": "stream",
     "text": [
      "Train Data\n",
      "              precision    recall  f1-score   support\n",
      "\n",
      "           0       0.60      0.04      0.07       395\n",
      "           1       0.73      0.98      0.83      5040\n",
      "           2       0.61      0.10      0.18      1672\n",
      "\n",
      "    accuracy                           0.72      7107\n",
      "   macro avg       0.65      0.37      0.36      7107\n",
      "weighted avg       0.69      0.72      0.64      7107\n",
      "\n",
      "\n",
      "Train Data\n",
      "              precision    recall  f1-score   support\n",
      "\n",
      "           0       0.07      0.01      0.01       128\n",
      "           1       0.73      0.96      0.83      1717\n",
      "           2       0.41      0.08      0.13       524\n",
      "\n",
      "    accuracy                           0.72      2369\n",
      "   macro avg       0.41      0.35      0.33      2369\n",
      "weighted avg       0.63      0.72      0.63      2369\n",
      "\n"
     ]
    },
    {
     "data": {
      "text/plain": [
       "<AxesSubplot:>"
      ]
     },
     "execution_count": 23,
     "metadata": {},
     "output_type": "execute_result"
    },
    {
     "data": {
      "image/png": "[encoded data removed]",
      "text/plain": [
       "<Figure size 1296x432 with 4 Axes>"
      ]
     },
     "metadata": {},
     "output_type": "display_data"
    }
   ],
   "source": [
    "y_train_pred = decision_tree.predict(X_train)\n",
    "y_test_pred = decision_tree.predict(X_test)\n",
    "\n",
    "# Print the Classification Report\n",
    "print(\"Train Data\")\n",
    "print(classification_report(y_train,y_train_pred))\n",
    "print()\n",
    "\n",
    "print(\"Train Data\")\n",
    "print(classification_report(y_test,y_test_pred))\n",
    "\n",
    "# Plot the three-way Confusion Matrix\n",
    "f, axes = plt.subplots(1, 2, figsize=(18, 6))\n",
    "sb.heatmap(confusion_matrix(y_train, y_train_pred), \n",
    "           annot = True, fmt=\".0f\", annot_kws={\"size\": 18}, ax=axes[0])\n",
    "sb.heatmap(confusion_matrix(y_test, y_test_pred), \n",
    "           annot = True, fmt=\".0f\", annot_kws={\"size\": 18}, ax=axes[1])"
   ]
  },
  {
   "cell_type": "code",
   "execution_count": 24,
   "id": "73470795",
   "metadata": {},
   "outputs": [
    {
     "data": {
      "text/plain": [
       "72.06"
      ]
     },
     "execution_count": 24,
     "metadata": {},
     "output_type": "execute_result"
    }
   ],
   "source": [
    "# Decision Tree\n",
    "\n",
    "decision_tree = DecisionTreeClassifier()\n",
    "decision_tree.fit(X_train, y_train)\n",
    "y_pred = decision_tree.predict(X_test)\n",
    "acc_decision_tree = round(decision_tree.score(X_train, y_train) * 100, 2)\n",
    "acc_decision_tree"
   ]
  },
  {
   "cell_type": "code",
   "execution_count": 25,
   "id": "55a7354e",
   "metadata": {},
   "outputs": [
    {
     "name": "stdout",
     "output_type": "stream",
     "text": [
      "              precision    recall  f1-score   support\n",
      "\n",
      "           0       0.07      0.01      0.01       128\n",
      "           1       0.73      0.96      0.83      1717\n",
      "           2       0.41      0.08      0.13       524\n",
      "\n",
      "    accuracy                           0.72      2369\n",
      "   macro avg       0.41      0.35      0.33      2369\n",
      "weighted avg       0.63      0.72      0.63      2369\n",
      "\n",
      "[[   1  123    4]\n",
      " [  10 1651   56]\n",
      " [   3  479   42]]\n"
     ]
    }
   ],
   "source": [
    "print(classification_report(y_test,y_pred))\n",
    "print(confusion_matrix(y_test, y_pred))"
   ]
  },
  {
   "cell_type": "markdown",
   "id": "7f08145a",
   "metadata": {},
   "source": [
    "### Predict `INSTALLS_GROUP`"
   ]
  },
  {
   "cell_type": "code",
   "execution_count": 26,
   "id": "df877fc6",
   "metadata": {},
   "outputs": [
    {
     "data": {
      "text/plain": [
       "DecisionTreeClassifier()"
      ]
     },
     "execution_count": 26,
     "metadata": {},
     "output_type": "execute_result"
    }
   ],
   "source": [
    "# Extract Response and Predictors\n",
    "response = \"INSTALLS_GROUP\"\n",
    "y = pd.DataFrame(model_df_encoded[response])\n",
    "X = pd.DataFrame(model_df_encoded.drop(response, axis = 1))\n",
    "X.drop([\"RATING_GROUP\"], inplace = True, axis = 1)\n",
    "\n",
    "# Split the Dataset into Train and Test\n",
    "X_train, X_test, y_train, y_test = train_test_split(X, y, test_size = 0.25, random_state=99)\n",
    "\n",
    "#Fit the model\n",
    "decision_tree = DecisionTreeClassifier() #set max-depth to default\n",
    "decision_tree.fit(X_train, y_train)"
   ]
  },
  {
   "cell_type": "code",
   "execution_count": 27,
   "id": "9de25826",
   "metadata": {},
   "outputs": [
    {
     "name": "stdout",
     "output_type": "stream",
     "text": [
      "Train Data\n",
      "              precision    recall  f1-score   support\n",
      "\n",
      "           0       0.77      0.49      0.59       723\n",
      "           1       0.83      0.98      0.90      5616\n",
      "           2       0.74      0.04      0.08       768\n",
      "\n",
      "    accuracy                           0.83      7107\n",
      "   macro avg       0.78      0.50      0.52      7107\n",
      "weighted avg       0.82      0.83      0.78      7107\n",
      "\n",
      "\n",
      "Train Data\n",
      "              precision    recall  f1-score   support\n",
      "\n",
      "           0       0.72      0.47      0.57       248\n",
      "           1       0.82      0.97      0.89      1852\n",
      "           2       0.57      0.04      0.08       269\n",
      "\n",
      "    accuracy                           0.81      2369\n",
      "   macro avg       0.70      0.49      0.51      2369\n",
      "weighted avg       0.78      0.81      0.76      2369\n",
      "\n"
     ]
    },
    {
     "data": {
      "text/plain": [
       "<AxesSubplot:>"
      ]
     },
     "execution_count": 27,
     "metadata": {},
     "output_type": "execute_result"
    },
    {
     "data": {
      "image/png": "[encoded data removed]",
      "text/plain": [
       "<Figure size 1296x432 with 4 Axes>"
      ]
     },
     "metadata": {},
     "output_type": "display_data"
    }
   ],
   "source": [
    "y_train_pred = decision_tree.predict(X_train)\n",
    "y_test_pred = decision_tree.predict(X_test)\n",
    "\n",
    "# Print the Classification Report\n",
    "print(\"Train Data\")\n",
    "print(classification_report(y_train,y_train_pred))\n",
    "print()\n",
    "\n",
    "print(\"Train Data\")\n",
    "print(classification_report(y_test,y_test_pred))\n",
    "\n",
    "# Plot the three-way Confusion Matrix\n",
    "f, axes = plt.subplots(1, 2, figsize=(18, 6))\n",
    "sb.heatmap(confusion_matrix(y_train, y_train_pred), \n",
    "           annot = True, fmt=\".0f\", annot_kws={\"size\": 18}, ax=axes[0])\n",
    "sb.heatmap(confusion_matrix(y_test, y_test_pred), \n",
    "           annot = True, fmt=\".0f\", annot_kws={\"size\": 18}, ax=axes[1])"
   ]
  },
  {
   "cell_type": "code",
   "execution_count": 28,
   "id": "2d1791f8",
   "metadata": {},
   "outputs": [
    {
     "data": {
      "text/plain": [
       "{'ccp_alpha': 0.0,\n",
       " 'class_weight': None,\n",
       " 'criterion': 'gini',\n",
       " 'max_depth': None,\n",
       " 'max_features': None,\n",
       " 'max_leaf_nodes': None,\n",
       " 'min_impurity_decrease': 0.0,\n",
       " 'min_samples_leaf': 1,\n",
       " 'min_samples_split': 2,\n",
       " 'min_weight_fraction_leaf': 0.0,\n",
       " 'random_state': None,\n",
       " 'splitter': 'best'}"
      ]
     },
     "execution_count": 28,
     "metadata": {},
     "output_type": "execute_result"
    }
   ],
   "source": [
    "decision_tree.get_params()"
   ]
  },
  {
   "cell_type": "code",
   "execution_count": 29,
   "id": "52d4af8e",
   "metadata": {},
   "outputs": [
    {
     "data": {
      "text/plain": [
       "GridSearchCV(cv=5, estimator=RandomForestClassifier(random_state=42),\n",
       "             param_grid={'criterion': ['gini', 'entropy'],\n",
       "                         'max_depth': [4, 6, 8, 10, 12, 14, 16],\n",
       "                         'max_features': ['auto', 'sqrt', 'log2'],\n",
       "                         'n_estimators': [1, 100, 500, 1000]})"
      ]
     },
     "execution_count": 29,
     "metadata": {},
     "output_type": "execute_result"
    }
   ],
   "source": [
    "rfc= RandomForestClassifier(random_state=42)\n",
    "param_grid = { \n",
    "    'n_estimators': [1, 100, 500, 1000],\n",
    "    'max_features': ['auto', 'sqrt', 'log2'],\n",
    "    'max_depth' : [4,6,8,10,12,14,16],\n",
    "    'criterion' :['gini', 'entropy']\n",
    "}\n",
    "CV_rfc = GridSearchCV(estimator=rfc, param_grid=param_grid, cv= 5)\n",
    "CV_rfc.fit(X_train, y_train)"
   ]
  },
  {
   "cell_type": "code",
   "execution_count": 30,
   "id": "5e77098d",
   "metadata": {},
   "outputs": [
    {
     "name": "stdout",
     "output_type": "stream",
     "text": [
      "{'criterion': 'gini', 'max_depth': 8, 'max_features': 'auto', 'n_estimators': 100}\n",
      "0.8228501352527043\n"
     ]
    }
   ],
   "source": [
    "# Fetch the best Model or the best set of Hyper-parameters\n",
    "print(CV_rfc.best_params_)\n",
    "\n",
    "# Print the score (accuracy) of the best Model after CV\n",
    "print(np.abs(CV_rfc.best_score_))"
   ]
  },
  {
   "cell_type": "code",
   "execution_count": 31,
   "id": "ec85dff1",
   "metadata": {},
   "outputs": [
    {
     "name": "stdout",
     "output_type": "stream",
     "text": [
      "Train Data\n",
      "              precision    recall  f1-score   support\n",
      "\n",
      "           0       0.76      0.49      0.59       723\n",
      "           1       0.83      0.98      0.90      5616\n",
      "           2       0.73      0.04      0.08       768\n",
      "\n",
      "    accuracy                           0.83      7107\n",
      "   macro avg       0.78      0.50      0.53      7107\n",
      "weighted avg       0.81      0.83      0.78      7107\n",
      "\n",
      "\n",
      "Train Data\n",
      "              precision    recall  f1-score   support\n",
      "\n",
      "           0       0.73      0.48      0.58       248\n",
      "           1       0.82      0.97      0.89      1852\n",
      "           2       0.57      0.04      0.08       269\n",
      "\n",
      "    accuracy                           0.81      2369\n",
      "   macro avg       0.71      0.50      0.52      2369\n",
      "weighted avg       0.78      0.81      0.77      2369\n",
      "\n"
     ]
    },
    {
     "data": {
      "text/plain": [
       "<AxesSubplot:>"
      ]
     },
     "execution_count": 31,
     "metadata": {},
     "output_type": "execute_result"
    },
    {
     "data": {
      "image/png": "[encoded data removed]",
      "text/plain": [
       "<Figure size 1296x432 with 4 Axes>"
      ]
     },
     "metadata": {},
     "output_type": "display_data"
    }
   ],
   "source": [
    "#Fit the model\n",
    "rfc_best = RandomForestClassifier(criterion=\"gini\", max_depth=8, max_features=\"auto\", n_estimators=100) \n",
    "rfc_best.fit(X_train, y_train)\n",
    "\n",
    "y_train_pred = rfc_best.predict(X_train)\n",
    "y_test_pred = rfc_best.predict(X_test)\n",
    "\n",
    "# Print the Classification Report\n",
    "print(\"Train Data\")\n",
    "print(classification_report(y_train,y_train_pred))\n",
    "print()\n",
    "\n",
    "print(\"Train Data\")\n",
    "print(classification_report(y_test,y_test_pred))\n",
    "\n",
    "# Plot the three-way Confusion Matrix\n",
    "f, axes = plt.subplots(1, 2, figsize=(18, 6))\n",
    "sb.heatmap(confusion_matrix(y_train, y_train_pred), \n",
    "           annot = True, fmt=\".0f\", annot_kws={\"size\": 18}, ax=axes[0])\n",
    "sb.heatmap(confusion_matrix(y_test, y_test_pred), \n",
    "           annot = True, fmt=\".0f\", annot_kws={\"size\": 18}, ax=axes[1])"
   ]
  }
 ],
 "metadata": {
  "kernelspec": {
   "display_name": "Python 3 (ipykernel)",
   "language": "python",
   "name": "python3"
  },
  "language_info": {
   "codemirror_mode": {
    "name": "ipython",
    "version": 3
   },
   "file_extension": ".py",
   "mimetype": "text/x-python",
   "name": "python",
   "nbconvert_exporter": "python",
   "pygments_lexer": "ipython3",
   "version": "3.9.7"
  }
 },
 "nbformat": 4,
 "nbformat_minor": 5
}
