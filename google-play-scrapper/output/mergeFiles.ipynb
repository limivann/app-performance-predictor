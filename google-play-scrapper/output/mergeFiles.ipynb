{
 "cells": [
  {
   "cell_type": "code",
   "execution_count": 7,
   "metadata": {},
   "outputs": [],
   "source": [
    "import pandas as pd"
   ]
  },
  {
   "cell_type": "code",
   "execution_count": 8,
   "metadata": {},
   "outputs": [],
   "source": [
    "# read files\n",
    "output_df_1 = pd.read_csv(\"./output_1.csv\")\n",
    "output_df_2 = pd.read_csv(\"./output_2.csv\")\n",
    "output_df_3 = pd.read_csv(\"./output_3.csv\")\n",
    "output_df_4 = pd.read_csv(\"./output_4.csv\")\n",
    "output_df_5 = pd.read_csv(\"./output_5.csv\")\n",
    "output_df_6 = pd.read_csv(\"./output_6.csv\")\n",
    "list_of_output_files = [output_df_1, output_df_2, output_df_3, output_df_4, output_df_5, output_df_6]"
   ]
  },
  {
   "cell_type": "code",
   "execution_count": 9,
   "metadata": {},
   "outputs": [],
   "source": [
    "combined_df = pd.concat(list_of_output_files)\n",
    "combined_df.reset_index(drop=True, inplace=True)"
   ]
  },
  {
   "cell_type": "code",
   "execution_count": 11,
   "metadata": {},
   "outputs": [
    {
     "data": {
      "text/plain": [
       "0        Everyone\n",
       "1        Everyone\n",
       "2        Everyone\n",
       "3        Everyone\n",
       "4        Everyone\n",
       "           ...   \n",
       "23832    Everyone\n",
       "23833    Everyone\n",
       "23834    Everyone\n",
       "23835    Everyone\n",
       "23836    Everyone\n",
       "Name: CONTENT_RATING, Length: 23837, dtype: object"
      ]
     },
     "execution_count": 11,
     "metadata": {},
     "output_type": "execute_result"
    }
   ],
   "source": [
    "combined_df_test = combined_df[\"CONTENT_RATING\"]\n",
    "combined_df_test"
   ]
  },
  {
   "cell_type": "code",
   "execution_count": 4,
   "metadata": {},
   "outputs": [],
   "source": [
    "file_path = \"./output_v1.csv\"\n",
    "combined_df.to_csv(path_or_buf=file_path);"
   ]
  }
 ],
 "metadata": {
  "interpreter": {
   "hash": "fe06f96167c4fc64a78c238d993189072a4e72b444216e36203d6f96126eaf0a"
  },
  "kernelspec": {
   "display_name": "Python 3.9.4 64-bit",
   "language": "python",
   "name": "python3"
  },
  "language_info": {
   "codemirror_mode": {
    "name": "ipython",
    "version": 3
   },
   "file_extension": ".py",
   "mimetype": "text/x-python",
   "name": "python",
   "nbconvert_exporter": "python",
   "pygments_lexer": "ipython3",
   "version": "3.9.4"
  },
  "orig_nbformat": 4
 },
 "nbformat": 4,
 "nbformat_minor": 2
}
